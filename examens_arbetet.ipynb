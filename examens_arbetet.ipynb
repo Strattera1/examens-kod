{
 "cells": [
  {
   "cell_type": "code",
   "execution_count": 1,
   "id": "b8c80789",
   "metadata": {},
   "outputs": [],
   "source": [
    "import pandas as pd\n",
    "import seaborn as sns\n",
    "import numpy as np\n",
    "from sklearn.neural_network import MLPClassifier\n",
    "import matplotlib.pyplot as plt\n",
    "from sklearn.metrics import accuracy_score, classification_report, confusion_matrix, mean_absolute_error,r2_score,mean_squared_error\n",
    "from sklearn.preprocessing import OneHotEncoder, LabelEncoder, StandardScaler\n",
    "from seaborn import lineplot\n",
    "from sklearn.model_selection import train_test_split\n",
    "from sklearn.ensemble import RandomForestClassifier, RandomForestRegressor\n",
    "from sklearn.tree import DecisionTreeClassifier\n",
    "from sklearn.linear_model import LinearRegression\n",
    "from sklearn.dummy import DummyClassifier, DummyRegressor\n",
    "from sklearn import svm\n",
    "from sklearn.svm import SVC\n"
   ]
  },
  {
   "cell_type": "code",
   "execution_count": 2,
   "id": "edfc740a",
   "metadata": {},
   "outputs": [],
   "source": [
    "personal_df = pd.read_csv(\"russia_losses_personnel.csv\")"
   ]
  },
  {
   "cell_type": "code",
   "execution_count": 3,
   "id": "4ae45f15",
   "metadata": {},
   "outputs": [],
   "source": [
    "equpiment_loses_df = pd.read_csv(\"russia_losses_equipment.csv\")"
   ]
  },
  {
   "cell_type": "code",
   "execution_count": 4,
   "id": "203e255a",
   "metadata": {},
   "outputs": [],
   "source": [
    "equpiment_loses_correction_df = pd.read_csv(\"russia_losses_equipment_correction.csv\")"
   ]
  },
  {
   "cell_type": "code",
   "execution_count": 5,
   "id": "5b0d9ff1",
   "metadata": {},
   "outputs": [
    {
     "data": {
      "text/html": [
       "<div>\n",
       "<style scoped>\n",
       "    .dataframe tbody tr th:only-of-type {\n",
       "        vertical-align: middle;\n",
       "    }\n",
       "\n",
       "    .dataframe tbody tr th {\n",
       "        vertical-align: top;\n",
       "    }\n",
       "\n",
       "    .dataframe thead th {\n",
       "        text-align: right;\n",
       "    }\n",
       "</style>\n",
       "<table border=\"1\" class=\"dataframe\">\n",
       "  <thead>\n",
       "    <tr style=\"text-align: right;\">\n",
       "      <th></th>\n",
       "      <th>date</th>\n",
       "      <th>day</th>\n",
       "      <th>personnel</th>\n",
       "      <th>personnel*</th>\n",
       "      <th>POW</th>\n",
       "    </tr>\n",
       "  </thead>\n",
       "  <tbody>\n",
       "    <tr>\n",
       "      <th>0</th>\n",
       "      <td>2024-06-09</td>\n",
       "      <td>837</td>\n",
       "      <td>518560</td>\n",
       "      <td>about</td>\n",
       "      <td>NaN</td>\n",
       "    </tr>\n",
       "    <tr>\n",
       "      <th>1</th>\n",
       "      <td>2024-06-08</td>\n",
       "      <td>836</td>\n",
       "      <td>517290</td>\n",
       "      <td>about</td>\n",
       "      <td>NaN</td>\n",
       "    </tr>\n",
       "    <tr>\n",
       "      <th>2</th>\n",
       "      <td>2024-06-07</td>\n",
       "      <td>835</td>\n",
       "      <td>516080</td>\n",
       "      <td>about</td>\n",
       "      <td>NaN</td>\n",
       "    </tr>\n",
       "    <tr>\n",
       "      <th>3</th>\n",
       "      <td>2024-06-06</td>\n",
       "      <td>834</td>\n",
       "      <td>515000</td>\n",
       "      <td>about</td>\n",
       "      <td>NaN</td>\n",
       "    </tr>\n",
       "    <tr>\n",
       "      <th>4</th>\n",
       "      <td>2024-06-05</td>\n",
       "      <td>833</td>\n",
       "      <td>513700</td>\n",
       "      <td>about</td>\n",
       "      <td>NaN</td>\n",
       "    </tr>\n",
       "    <tr>\n",
       "      <th>5</th>\n",
       "      <td>2024-06-04</td>\n",
       "      <td>832</td>\n",
       "      <td>512420</td>\n",
       "      <td>about</td>\n",
       "      <td>NaN</td>\n",
       "    </tr>\n",
       "    <tr>\n",
       "      <th>6</th>\n",
       "      <td>2024-06-03</td>\n",
       "      <td>831</td>\n",
       "      <td>511130</td>\n",
       "      <td>about</td>\n",
       "      <td>NaN</td>\n",
       "    </tr>\n",
       "    <tr>\n",
       "      <th>7</th>\n",
       "      <td>2024-06-02</td>\n",
       "      <td>830</td>\n",
       "      <td>509860</td>\n",
       "      <td>about</td>\n",
       "      <td>NaN</td>\n",
       "    </tr>\n",
       "    <tr>\n",
       "      <th>8</th>\n",
       "      <td>2024-06-01</td>\n",
       "      <td>829</td>\n",
       "      <td>508780</td>\n",
       "      <td>about</td>\n",
       "      <td>NaN</td>\n",
       "    </tr>\n",
       "    <tr>\n",
       "      <th>9</th>\n",
       "      <td>2024-05-31</td>\n",
       "      <td>828</td>\n",
       "      <td>507650</td>\n",
       "      <td>about</td>\n",
       "      <td>NaN</td>\n",
       "    </tr>\n",
       "    <tr>\n",
       "      <th>10</th>\n",
       "      <td>2024-05-30</td>\n",
       "      <td>827</td>\n",
       "      <td>506260</td>\n",
       "      <td>about</td>\n",
       "      <td>NaN</td>\n",
       "    </tr>\n",
       "    <tr>\n",
       "      <th>11</th>\n",
       "      <td>2024-05-29</td>\n",
       "      <td>826</td>\n",
       "      <td>505100</td>\n",
       "      <td>about</td>\n",
       "      <td>NaN</td>\n",
       "    </tr>\n",
       "    <tr>\n",
       "      <th>12</th>\n",
       "      <td>2024-05-28</td>\n",
       "      <td>825</td>\n",
       "      <td>503800</td>\n",
       "      <td>about</td>\n",
       "      <td>NaN</td>\n",
       "    </tr>\n",
       "    <tr>\n",
       "      <th>13</th>\n",
       "      <td>2024-05-27</td>\n",
       "      <td>824</td>\n",
       "      <td>502340</td>\n",
       "      <td>about</td>\n",
       "      <td>NaN</td>\n",
       "    </tr>\n",
       "    <tr>\n",
       "      <th>14</th>\n",
       "      <td>2024-05-26</td>\n",
       "      <td>823</td>\n",
       "      <td>501190</td>\n",
       "      <td>about</td>\n",
       "      <td>NaN</td>\n",
       "    </tr>\n",
       "    <tr>\n",
       "      <th>15</th>\n",
       "      <td>2024-05-25</td>\n",
       "      <td>822</td>\n",
       "      <td>500080</td>\n",
       "      <td>about</td>\n",
       "      <td>NaN</td>\n",
       "    </tr>\n",
       "    <tr>\n",
       "      <th>16</th>\n",
       "      <td>2024-05-24</td>\n",
       "      <td>821</td>\n",
       "      <td>498940</td>\n",
       "      <td>about</td>\n",
       "      <td>NaN</td>\n",
       "    </tr>\n",
       "    <tr>\n",
       "      <th>17</th>\n",
       "      <td>2024-05-23</td>\n",
       "      <td>820</td>\n",
       "      <td>497700</td>\n",
       "      <td>about</td>\n",
       "      <td>NaN</td>\n",
       "    </tr>\n",
       "    <tr>\n",
       "      <th>18</th>\n",
       "      <td>2024-05-22</td>\n",
       "      <td>819</td>\n",
       "      <td>496370</td>\n",
       "      <td>about</td>\n",
       "      <td>NaN</td>\n",
       "    </tr>\n",
       "    <tr>\n",
       "      <th>19</th>\n",
       "      <td>2024-05-21</td>\n",
       "      <td>818</td>\n",
       "      <td>495070</td>\n",
       "      <td>about</td>\n",
       "      <td>NaN</td>\n",
       "    </tr>\n",
       "  </tbody>\n",
       "</table>\n",
       "</div>"
      ],
      "text/plain": [
       "          date  day  personnel personnel*  POW\n",
       "0   2024-06-09  837     518560      about  NaN\n",
       "1   2024-06-08  836     517290      about  NaN\n",
       "2   2024-06-07  835     516080      about  NaN\n",
       "3   2024-06-06  834     515000      about  NaN\n",
       "4   2024-06-05  833     513700      about  NaN\n",
       "5   2024-06-04  832     512420      about  NaN\n",
       "6   2024-06-03  831     511130      about  NaN\n",
       "7   2024-06-02  830     509860      about  NaN\n",
       "8   2024-06-01  829     508780      about  NaN\n",
       "9   2024-05-31  828     507650      about  NaN\n",
       "10  2024-05-30  827     506260      about  NaN\n",
       "11  2024-05-29  826     505100      about  NaN\n",
       "12  2024-05-28  825     503800      about  NaN\n",
       "13  2024-05-27  824     502340      about  NaN\n",
       "14  2024-05-26  823     501190      about  NaN\n",
       "15  2024-05-25  822     500080      about  NaN\n",
       "16  2024-05-24  821     498940      about  NaN\n",
       "17  2024-05-23  820     497700      about  NaN\n",
       "18  2024-05-22  819     496370      about  NaN\n",
       "19  2024-05-21  818     495070      about  NaN"
      ]
     },
     "execution_count": 5,
     "metadata": {},
     "output_type": "execute_result"
    }
   ],
   "source": [
    "personal_df.head(20)"
   ]
  },
  {
   "cell_type": "code",
   "execution_count": 6,
   "id": "b66c978c",
   "metadata": {},
   "outputs": [
    {
     "data": {
      "text/html": [
       "<div>\n",
       "<style scoped>\n",
       "    .dataframe tbody tr th:only-of-type {\n",
       "        vertical-align: middle;\n",
       "    }\n",
       "\n",
       "    .dataframe tbody tr th {\n",
       "        vertical-align: top;\n",
       "    }\n",
       "\n",
       "    .dataframe thead th {\n",
       "        text-align: right;\n",
       "    }\n",
       "</style>\n",
       "<table border=\"1\" class=\"dataframe\">\n",
       "  <thead>\n",
       "    <tr style=\"text-align: right;\">\n",
       "      <th></th>\n",
       "      <th>date</th>\n",
       "      <th>day</th>\n",
       "      <th>aircraft</th>\n",
       "      <th>helicopter</th>\n",
       "      <th>tank</th>\n",
       "      <th>APC</th>\n",
       "      <th>field artillery</th>\n",
       "      <th>MRL</th>\n",
       "      <th>military auto</th>\n",
       "      <th>fuel tank</th>\n",
       "      <th>drone</th>\n",
       "      <th>naval ship</th>\n",
       "      <th>anti-aircraft warfare</th>\n",
       "      <th>special equipment</th>\n",
       "      <th>mobile SRBM system</th>\n",
       "      <th>greatest losses direction</th>\n",
       "      <th>vehicles and fuel tanks</th>\n",
       "      <th>cruise missiles</th>\n",
       "      <th>submarines</th>\n",
       "    </tr>\n",
       "  </thead>\n",
       "  <tbody>\n",
       "    <tr>\n",
       "      <th>0</th>\n",
       "      <td>2024-06-09</td>\n",
       "      <td>837</td>\n",
       "      <td>357</td>\n",
       "      <td>326</td>\n",
       "      <td>7869</td>\n",
       "      <td>15131</td>\n",
       "      <td>13593</td>\n",
       "      <td>1097</td>\n",
       "      <td>NaN</td>\n",
       "      <td>NaN</td>\n",
       "      <td>10982</td>\n",
       "      <td>28</td>\n",
       "      <td>836</td>\n",
       "      <td>2253.0</td>\n",
       "      <td>NaN</td>\n",
       "      <td>NaN</td>\n",
       "      <td>18562.0</td>\n",
       "      <td>2277.0</td>\n",
       "      <td>1.0</td>\n",
       "    </tr>\n",
       "    <tr>\n",
       "      <th>1</th>\n",
       "      <td>2024-06-08</td>\n",
       "      <td>836</td>\n",
       "      <td>357</td>\n",
       "      <td>326</td>\n",
       "      <td>7843</td>\n",
       "      <td>15105</td>\n",
       "      <td>13533</td>\n",
       "      <td>1095</td>\n",
       "      <td>NaN</td>\n",
       "      <td>NaN</td>\n",
       "      <td>10945</td>\n",
       "      <td>28</td>\n",
       "      <td>834</td>\n",
       "      <td>2248.0</td>\n",
       "      <td>NaN</td>\n",
       "      <td>NaN</td>\n",
       "      <td>18484.0</td>\n",
       "      <td>2277.0</td>\n",
       "      <td>1.0</td>\n",
       "    </tr>\n",
       "    <tr>\n",
       "      <th>2</th>\n",
       "      <td>2024-06-07</td>\n",
       "      <td>835</td>\n",
       "      <td>357</td>\n",
       "      <td>326</td>\n",
       "      <td>7834</td>\n",
       "      <td>15096</td>\n",
       "      <td>13497</td>\n",
       "      <td>1095</td>\n",
       "      <td>NaN</td>\n",
       "      <td>NaN</td>\n",
       "      <td>10886</td>\n",
       "      <td>28</td>\n",
       "      <td>833</td>\n",
       "      <td>2238.0</td>\n",
       "      <td>NaN</td>\n",
       "      <td>NaN</td>\n",
       "      <td>18416.0</td>\n",
       "      <td>2270.0</td>\n",
       "      <td>1.0</td>\n",
       "    </tr>\n",
       "    <tr>\n",
       "      <th>3</th>\n",
       "      <td>2024-06-06</td>\n",
       "      <td>834</td>\n",
       "      <td>357</td>\n",
       "      <td>326</td>\n",
       "      <td>7828</td>\n",
       "      <td>15076</td>\n",
       "      <td>13433</td>\n",
       "      <td>1095</td>\n",
       "      <td>NaN</td>\n",
       "      <td>NaN</td>\n",
       "      <td>10846</td>\n",
       "      <td>27</td>\n",
       "      <td>831</td>\n",
       "      <td>2230.0</td>\n",
       "      <td>NaN</td>\n",
       "      <td>NaN</td>\n",
       "      <td>18360.0</td>\n",
       "      <td>2270.0</td>\n",
       "      <td>1.0</td>\n",
       "    </tr>\n",
       "    <tr>\n",
       "      <th>4</th>\n",
       "      <td>2024-06-05</td>\n",
       "      <td>833</td>\n",
       "      <td>357</td>\n",
       "      <td>326</td>\n",
       "      <td>7806</td>\n",
       "      <td>15036</td>\n",
       "      <td>13385</td>\n",
       "      <td>1092</td>\n",
       "      <td>NaN</td>\n",
       "      <td>NaN</td>\n",
       "      <td>10805</td>\n",
       "      <td>27</td>\n",
       "      <td>830</td>\n",
       "      <td>2223.0</td>\n",
       "      <td>NaN</td>\n",
       "      <td>NaN</td>\n",
       "      <td>18297.0</td>\n",
       "      <td>2270.0</td>\n",
       "      <td>1.0</td>\n",
       "    </tr>\n",
       "  </tbody>\n",
       "</table>\n",
       "</div>"
      ],
      "text/plain": [
       "         date  day  aircraft  helicopter  tank    APC  field artillery   MRL  \\\n",
       "0  2024-06-09  837       357         326  7869  15131            13593  1097   \n",
       "1  2024-06-08  836       357         326  7843  15105            13533  1095   \n",
       "2  2024-06-07  835       357         326  7834  15096            13497  1095   \n",
       "3  2024-06-06  834       357         326  7828  15076            13433  1095   \n",
       "4  2024-06-05  833       357         326  7806  15036            13385  1092   \n",
       "\n",
       "   military auto  fuel tank  drone  naval ship  anti-aircraft warfare  \\\n",
       "0            NaN        NaN  10982          28                    836   \n",
       "1            NaN        NaN  10945          28                    834   \n",
       "2            NaN        NaN  10886          28                    833   \n",
       "3            NaN        NaN  10846          27                    831   \n",
       "4            NaN        NaN  10805          27                    830   \n",
       "\n",
       "   special equipment  mobile SRBM system greatest losses direction  \\\n",
       "0             2253.0                 NaN                       NaN   \n",
       "1             2248.0                 NaN                       NaN   \n",
       "2             2238.0                 NaN                       NaN   \n",
       "3             2230.0                 NaN                       NaN   \n",
       "4             2223.0                 NaN                       NaN   \n",
       "\n",
       "   vehicles and fuel tanks  cruise missiles  submarines  \n",
       "0                  18562.0           2277.0         1.0  \n",
       "1                  18484.0           2277.0         1.0  \n",
       "2                  18416.0           2270.0         1.0  \n",
       "3                  18360.0           2270.0         1.0  \n",
       "4                  18297.0           2270.0         1.0  "
      ]
     },
     "execution_count": 6,
     "metadata": {},
     "output_type": "execute_result"
    }
   ],
   "source": [
    "equpiment_loses_df.head()"
   ]
  },
  {
   "cell_type": "markdown",
   "id": "d7084935",
   "metadata": {},
   "source": [
    "Vad ska ta borts ifrån personal datan: \n",
    "Date, personnel* och POW bör tas bort. Den först visar bara datumen fångars värde har inte uppdaterats på jättelänge och * tas bort för att den säger ingenting. "
   ]
  },
  {
   "cell_type": "code",
   "execution_count": 7,
   "id": "038e4392",
   "metadata": {
    "scrolled": false
   },
   "outputs": [
    {
     "data": {
      "text/html": [
       "<div>\n",
       "<style scoped>\n",
       "    .dataframe tbody tr th:only-of-type {\n",
       "        vertical-align: middle;\n",
       "    }\n",
       "\n",
       "    .dataframe tbody tr th {\n",
       "        vertical-align: top;\n",
       "    }\n",
       "\n",
       "    .dataframe thead th {\n",
       "        text-align: right;\n",
       "    }\n",
       "</style>\n",
       "<table border=\"1\" class=\"dataframe\">\n",
       "  <thead>\n",
       "    <tr style=\"text-align: right;\">\n",
       "      <th></th>\n",
       "      <th>date</th>\n",
       "      <th>day</th>\n",
       "      <th>aircraft</th>\n",
       "      <th>helicopter</th>\n",
       "      <th>tank</th>\n",
       "      <th>APC</th>\n",
       "      <th>field artillery</th>\n",
       "      <th>MRL</th>\n",
       "      <th>military auto</th>\n",
       "      <th>fuel tank</th>\n",
       "      <th>drone</th>\n",
       "      <th>naval ship</th>\n",
       "      <th>anti-aircraft warfare</th>\n",
       "      <th>special equipment</th>\n",
       "      <th>mobile SRBM system</th>\n",
       "      <th>greatest losses direction</th>\n",
       "      <th>vehicles and fuel tanks</th>\n",
       "      <th>cruise missiles</th>\n",
       "      <th>submarines</th>\n",
       "    </tr>\n",
       "  </thead>\n",
       "  <tbody>\n",
       "    <tr>\n",
       "      <th>0</th>\n",
       "      <td>2024-06-09</td>\n",
       "      <td>837</td>\n",
       "      <td>357</td>\n",
       "      <td>326</td>\n",
       "      <td>7869</td>\n",
       "      <td>15131</td>\n",
       "      <td>13593</td>\n",
       "      <td>1097</td>\n",
       "      <td>NaN</td>\n",
       "      <td>NaN</td>\n",
       "      <td>10982</td>\n",
       "      <td>28</td>\n",
       "      <td>836</td>\n",
       "      <td>2253.0</td>\n",
       "      <td>NaN</td>\n",
       "      <td>NaN</td>\n",
       "      <td>18562.0</td>\n",
       "      <td>2277.0</td>\n",
       "      <td>1.0</td>\n",
       "    </tr>\n",
       "    <tr>\n",
       "      <th>1</th>\n",
       "      <td>2024-06-08</td>\n",
       "      <td>836</td>\n",
       "      <td>357</td>\n",
       "      <td>326</td>\n",
       "      <td>7843</td>\n",
       "      <td>15105</td>\n",
       "      <td>13533</td>\n",
       "      <td>1095</td>\n",
       "      <td>NaN</td>\n",
       "      <td>NaN</td>\n",
       "      <td>10945</td>\n",
       "      <td>28</td>\n",
       "      <td>834</td>\n",
       "      <td>2248.0</td>\n",
       "      <td>NaN</td>\n",
       "      <td>NaN</td>\n",
       "      <td>18484.0</td>\n",
       "      <td>2277.0</td>\n",
       "      <td>1.0</td>\n",
       "    </tr>\n",
       "    <tr>\n",
       "      <th>2</th>\n",
       "      <td>2024-06-07</td>\n",
       "      <td>835</td>\n",
       "      <td>357</td>\n",
       "      <td>326</td>\n",
       "      <td>7834</td>\n",
       "      <td>15096</td>\n",
       "      <td>13497</td>\n",
       "      <td>1095</td>\n",
       "      <td>NaN</td>\n",
       "      <td>NaN</td>\n",
       "      <td>10886</td>\n",
       "      <td>28</td>\n",
       "      <td>833</td>\n",
       "      <td>2238.0</td>\n",
       "      <td>NaN</td>\n",
       "      <td>NaN</td>\n",
       "      <td>18416.0</td>\n",
       "      <td>2270.0</td>\n",
       "      <td>1.0</td>\n",
       "    </tr>\n",
       "    <tr>\n",
       "      <th>3</th>\n",
       "      <td>2024-06-06</td>\n",
       "      <td>834</td>\n",
       "      <td>357</td>\n",
       "      <td>326</td>\n",
       "      <td>7828</td>\n",
       "      <td>15076</td>\n",
       "      <td>13433</td>\n",
       "      <td>1095</td>\n",
       "      <td>NaN</td>\n",
       "      <td>NaN</td>\n",
       "      <td>10846</td>\n",
       "      <td>27</td>\n",
       "      <td>831</td>\n",
       "      <td>2230.0</td>\n",
       "      <td>NaN</td>\n",
       "      <td>NaN</td>\n",
       "      <td>18360.0</td>\n",
       "      <td>2270.0</td>\n",
       "      <td>1.0</td>\n",
       "    </tr>\n",
       "    <tr>\n",
       "      <th>4</th>\n",
       "      <td>2024-06-05</td>\n",
       "      <td>833</td>\n",
       "      <td>357</td>\n",
       "      <td>326</td>\n",
       "      <td>7806</td>\n",
       "      <td>15036</td>\n",
       "      <td>13385</td>\n",
       "      <td>1092</td>\n",
       "      <td>NaN</td>\n",
       "      <td>NaN</td>\n",
       "      <td>10805</td>\n",
       "      <td>27</td>\n",
       "      <td>830</td>\n",
       "      <td>2223.0</td>\n",
       "      <td>NaN</td>\n",
       "      <td>NaN</td>\n",
       "      <td>18297.0</td>\n",
       "      <td>2270.0</td>\n",
       "      <td>1.0</td>\n",
       "    </tr>\n",
       "  </tbody>\n",
       "</table>\n",
       "</div>"
      ],
      "text/plain": [
       "         date  day  aircraft  helicopter  tank    APC  field artillery   MRL  \\\n",
       "0  2024-06-09  837       357         326  7869  15131            13593  1097   \n",
       "1  2024-06-08  836       357         326  7843  15105            13533  1095   \n",
       "2  2024-06-07  835       357         326  7834  15096            13497  1095   \n",
       "3  2024-06-06  834       357         326  7828  15076            13433  1095   \n",
       "4  2024-06-05  833       357         326  7806  15036            13385  1092   \n",
       "\n",
       "   military auto  fuel tank  drone  naval ship  anti-aircraft warfare  \\\n",
       "0            NaN        NaN  10982          28                    836   \n",
       "1            NaN        NaN  10945          28                    834   \n",
       "2            NaN        NaN  10886          28                    833   \n",
       "3            NaN        NaN  10846          27                    831   \n",
       "4            NaN        NaN  10805          27                    830   \n",
       "\n",
       "   special equipment  mobile SRBM system greatest losses direction  \\\n",
       "0             2253.0                 NaN                       NaN   \n",
       "1             2248.0                 NaN                       NaN   \n",
       "2             2238.0                 NaN                       NaN   \n",
       "3             2230.0                 NaN                       NaN   \n",
       "4             2223.0                 NaN                       NaN   \n",
       "\n",
       "   vehicles and fuel tanks  cruise missiles  submarines  \n",
       "0                  18562.0           2277.0         1.0  \n",
       "1                  18484.0           2277.0         1.0  \n",
       "2                  18416.0           2270.0         1.0  \n",
       "3                  18360.0           2270.0         1.0  \n",
       "4                  18297.0           2270.0         1.0  "
      ]
     },
     "execution_count": 7,
     "metadata": {},
     "output_type": "execute_result"
    }
   ],
   "source": [
    "equpiment_loses_df.head()"
   ]
  },
  {
   "cell_type": "code",
   "execution_count": 8,
   "id": "6fa41671",
   "metadata": {},
   "outputs": [
    {
     "data": {
      "text/plain": [
       "(836, 5)"
      ]
     },
     "execution_count": 8,
     "metadata": {},
     "output_type": "execute_result"
    }
   ],
   "source": [
    "personal_df.shape"
   ]
  },
  {
   "cell_type": "code",
   "execution_count": null,
   "id": "2a9eca06",
   "metadata": {},
   "outputs": [],
   "source": [
    "equpiment_loses_df.shape"
   ]
  },
  {
   "cell_type": "code",
   "execution_count": null,
   "id": "449e68bc",
   "metadata": {},
   "outputs": [],
   "source": [
    "personal_df.nunique()"
   ]
  },
  {
   "cell_type": "code",
   "execution_count": null,
   "id": "2d68ed6b",
   "metadata": {},
   "outputs": [],
   "source": [
    "equpiment_loses_correction_df.nunique()"
   ]
  },
  {
   "cell_type": "code",
   "execution_count": null,
   "id": "c0e87784",
   "metadata": {},
   "outputs": [],
   "source": [
    "personal_df.dtypes"
   ]
  },
  {
   "cell_type": "code",
   "execution_count": null,
   "id": "ff6cd8e4",
   "metadata": {},
   "outputs": [],
   "source": [
    "equpiment_loses_df.dtypes"
   ]
  },
  {
   "cell_type": "code",
   "execution_count": null,
   "id": "d8d42154",
   "metadata": {},
   "outputs": [],
   "source": [
    "attribute_counts = personal_df['personnel*'].value_counts()\n",
    "print (attribute_counts)"
   ]
  },
  {
   "cell_type": "code",
   "execution_count": null,
   "id": "31cfff86",
   "metadata": {},
   "outputs": [],
   "source": [
    "null_values =  personal_df.isnull()\n",
    "null_true = null_values.sum().sum()\n",
    "null_false = null_values.size - null_true\n",
    "list_of_null = f\"{null_true} True and {null_false} False\"\n",
    "print (list_of_null)"
   ]
  },
  {
   "cell_type": "code",
   "execution_count": null,
   "id": "a1e1002f",
   "metadata": {},
   "outputs": [],
   "source": [
    "lineplot(x=\"day\", y= \"personnel\", data = personal_df)\n",
    "plt.show()"
   ]
  },
  {
   "cell_type": "code",
   "execution_count": null,
   "id": "9a1f90e6",
   "metadata": {},
   "outputs": [],
   "source": [
    "lineplot(x=\"day\", y= \"tank\", data = equpiment_loses_df)\n",
    "plt.show()\n",
    "\n",
    "lineplot(x=\"day\", y= \"APC\", data = equpiment_loses_df)\n",
    "plt.show()"
   ]
  },
  {
   "cell_type": "markdown",
   "id": "9e1440ee",
   "metadata": {},
   "source": [
    "Måsta ta bort vissa av kolumerna som finns. De tillför inget till arbetet. "
   ]
  },
  {
   "cell_type": "markdown",
   "id": "0b8709c9",
   "metadata": {},
   "source": [
    "# Remove columns that are not needed"
   ]
  },
  {
   "cell_type": "code",
   "execution_count": null,
   "id": "a277324a",
   "metadata": {},
   "outputs": [],
   "source": [
    "equpiment_loses_df.nunique()"
   ]
  },
  {
   "cell_type": "code",
   "execution_count": null,
   "id": "30f88f63",
   "metadata": {},
   "outputs": [],
   "source": [
    "personal_df.drop('personnel*', axis=1, inplace=True)"
   ]
  },
  {
   "cell_type": "code",
   "execution_count": null,
   "id": "a7b8dc1f",
   "metadata": {},
   "outputs": [],
   "source": [
    "personal_df.head()"
   ]
  },
  {
   "cell_type": "code",
   "execution_count": null,
   "id": "1c16dfe0",
   "metadata": {},
   "outputs": [],
   "source": [
    "personal_df.drop('POW', axis=1, inplace=True)"
   ]
  },
  {
   "cell_type": "code",
   "execution_count": null,
   "id": "e15eafe8",
   "metadata": {},
   "outputs": [],
   "source": [
    "equpiment_loses_df.drop('greatest losses direction', axis=1, inplace=True)"
   ]
  },
  {
   "cell_type": "code",
   "execution_count": null,
   "id": "1784da1e",
   "metadata": {},
   "outputs": [],
   "source": [
    "equpiment_loses_df.dtypes"
   ]
  },
  {
   "cell_type": "code",
   "execution_count": null,
   "id": "d6a7271a",
   "metadata": {},
   "outputs": [],
   "source": [
    "equpiment_loses_df[\"submarines\"].fillna(0, inplace=True)\n",
    "equpiment_loses_df[\"submarines\"].replace([np.inf, -np.inf], 0, inplace=True)"
   ]
  },
  {
   "cell_type": "code",
   "execution_count": null,
   "id": "968b323a",
   "metadata": {},
   "outputs": [],
   "source": [
    "equpiment_loses_df[\"submarines\"]= equpiment_loses_df[\"submarines\"].astype('int64')"
   ]
  },
  {
   "cell_type": "code",
   "execution_count": null,
   "id": "dae1cc83",
   "metadata": {},
   "outputs": [],
   "source": [
    "equpiment_loses_df.drop('military auto', axis=1, inplace=True)\n",
    "equpiment_loses_df.drop('fuel tank', axis=1, inplace=True)\n",
    "equpiment_loses_df.drop('mobile SRBM system', axis=1, inplace=True)"
   ]
  },
  {
   "cell_type": "code",
   "execution_count": null,
   "id": "2b40232f",
   "metadata": {},
   "outputs": [],
   "source": [
    "equpiment_loses_df[\"vehicles and fuel tanks\"].fillna(0, inplace=True)\n",
    "equpiment_loses_df[\"vehicles and fuel tanks\"].replace([np.inf, -np.inf], 0, inplace=True)"
   ]
  },
  {
   "cell_type": "code",
   "execution_count": null,
   "id": "30cc51f3",
   "metadata": {},
   "outputs": [],
   "source": [
    "equpiment_loses_df[\"vehicles and fuel tanks\"]= equpiment_loses_df[\"vehicles and fuel tanks\"].astype('int64')"
   ]
  },
  {
   "cell_type": "code",
   "execution_count": null,
   "id": "773e130f",
   "metadata": {},
   "outputs": [],
   "source": [
    "equpiment_loses_df[\"cruise missiles\"].fillna(0, inplace=True)\n",
    "equpiment_loses_df[\"cruise missiles\"].replace([np.inf, -np.inf], 0, inplace=True)"
   ]
  },
  {
   "cell_type": "code",
   "execution_count": null,
   "id": "bb905e2d",
   "metadata": {},
   "outputs": [],
   "source": [
    "equpiment_loses_df[\"cruise missiles\"]= equpiment_loses_df[\"cruise missiles\"].astype('int64')"
   ]
  },
  {
   "cell_type": "code",
   "execution_count": null,
   "id": "0a7d9b62",
   "metadata": {},
   "outputs": [],
   "source": [
    "equpiment_loses_df[\"special equipment\"].fillna(0, inplace=True)\n",
    "equpiment_loses_df[\"special equipment\"].replace([np.inf, -np.inf], 0, inplace=True)\n",
    "equpiment_loses_df[\"special equipment\"]= equpiment_loses_df[\"special equipment\"].astype('int64')"
   ]
  },
  {
   "cell_type": "code",
   "execution_count": null,
   "id": "3c32feb9",
   "metadata": {},
   "outputs": [],
   "source": [
    "equpiment_loses_df.rename(columns={\"day\": \"combat_day\"})"
   ]
  },
  {
   "cell_type": "code",
   "execution_count": null,
   "id": "2f43f69a",
   "metadata": {},
   "outputs": [],
   "source": [
    "equpiment_loses_df['date'] = pd.to_datetime(equpiment_loses_df['date'])\n",
    "equpiment_loses_df['year'] = equpiment_loses_df['date'].dt.year\n",
    "equpiment_loses_df['month'] = equpiment_loses_df['date'].dt.month\n",
    "equpiment_loses_df['combat_date'] = equpiment_loses_df['date'].dt.day"
   ]
  },
  {
   "cell_type": "code",
   "execution_count": null,
   "id": "0c2f693f",
   "metadata": {},
   "outputs": [],
   "source": [
    "equpiment_loses_df.drop(columns=['date'], inplace=True)\n",
    "equpiment_loses_df.rename(columns={'day': 'combat_day'}, inplace=True)\n",
    "equpiment_loses_df.rename(columns={'combat_date': 'day'}, inplace=True)"
   ]
  },
  {
   "cell_type": "code",
   "execution_count": null,
   "id": "47d36fc8",
   "metadata": {},
   "outputs": [],
   "source": [
    "personal_df['date'] = pd.to_datetime(personal_df['date'])"
   ]
  },
  {
   "cell_type": "code",
   "execution_count": null,
   "id": "01181e4f",
   "metadata": {},
   "outputs": [],
   "source": [
    "personal_df['year'] = personal_df['date'].dt.year\n",
    "personal_df['month'] = personal_df['date'].dt.month\n",
    "personal_df['combat_date'] = personal_df['date'].dt.day"
   ]
  },
  {
   "cell_type": "code",
   "execution_count": null,
   "id": "d34d337c",
   "metadata": {},
   "outputs": [],
   "source": [
    "personal_df.drop(columns=['date'], inplace=True)"
   ]
  },
  {
   "cell_type": "code",
   "execution_count": null,
   "id": "cde05549",
   "metadata": {},
   "outputs": [],
   "source": [
    "personal_df.rename(columns={'day': 'combat_day'}, inplace=True)"
   ]
  },
  {
   "cell_type": "code",
   "execution_count": null,
   "id": "899ddc91",
   "metadata": {},
   "outputs": [],
   "source": [
    "personal_df.rename(columns={'combat_date': 'day'}, inplace=True)"
   ]
  },
  {
   "cell_type": "code",
   "execution_count": null,
   "id": "5957bfca",
   "metadata": {},
   "outputs": [],
   "source": [
    "merged_war_df = pd.merge(personal_df,equpiment_loses_df, on =['combat_day',\"year\",\"day\",\"month\"])\n"
   ]
  },
  {
   "cell_type": "code",
   "execution_count": null,
   "id": "41760c3e",
   "metadata": {
    "scrolled": true
   },
   "outputs": [],
   "source": [
    "merged_war_df.head()"
   ]
  },
  {
   "cell_type": "code",
   "execution_count": null,
   "id": "3d1c300b",
   "metadata": {},
   "outputs": [],
   "source": [
    "merged_war_df.columns"
   ]
  },
  {
   "cell_type": "code",
   "execution_count": null,
   "id": "84d3b675",
   "metadata": {},
   "outputs": [],
   "source": [
    "merged_war_df.nunique()"
   ]
  },
  {
   "cell_type": "code",
   "execution_count": null,
   "id": "6cdbec0f",
   "metadata": {},
   "outputs": [],
   "source": [
    "merged_war_df[['personnel','tank','APC','field artillery', 'aircraft','special equipment', 'anti-aircraft warfare' ]].hist(bins= 15,\n",
    "figsize=(12,6),alpha = 0.6, grid=False, rwidth= 0.8)\n",
    "plt.show()"
   ]
  },
  {
   "cell_type": "code",
   "execution_count": null,
   "id": "ad33c036",
   "metadata": {},
   "outputs": [],
   "source": [
    "sns.histplot(data=merged_war_df, x='APC', kde=True)\n"
   ]
  },
  {
   "cell_type": "code",
   "execution_count": null,
   "id": "db16aae5",
   "metadata": {
    "scrolled": false
   },
   "outputs": [],
   "source": [
    "sns.histplot(data=merged_war_df, x='personnel', kde=True)"
   ]
  },
  {
   "cell_type": "code",
   "execution_count": null,
   "id": "b8370bbe",
   "metadata": {},
   "outputs": [],
   "source": [
    "plot = plt.figure(figsize=(5,5))\n",
    "sns.barplot(x='year', y= 'personnel', data = merged_war_df)"
   ]
  },
  {
   "cell_type": "code",
   "execution_count": null,
   "id": "c9a651a1",
   "metadata": {
    "scrolled": true
   },
   "outputs": [],
   "source": [
    "specific_row = merged_war_df.iloc[450]\n",
    "print(specific_row)"
   ]
  },
  {
   "cell_type": "code",
   "execution_count": null,
   "id": "45a642cf",
   "metadata": {},
   "outputs": [],
   "source": [
    "personal_df.head()"
   ]
  },
  {
   "cell_type": "code",
   "execution_count": null,
   "id": "a5291747",
   "metadata": {},
   "outputs": [],
   "source": [
    "y = merged_war_df['personnel']\n",
    "X = merged_war_df.drop(columns=['personnel'])"
   ]
  },
  {
   "cell_type": "code",
   "execution_count": null,
   "id": "06c1c686",
   "metadata": {},
   "outputs": [],
   "source": [
    "X_train, X_test, y_train, y_test = train_test_split(X, y, test_size=0.2, random_state=42)"
   ]
  },
  {
   "cell_type": "code",
   "execution_count": null,
   "id": "869fa18a",
   "metadata": {},
   "outputs": [],
   "source": [
    "print(y.shape, y_train.shape, y_test.shape)"
   ]
  },
  {
   "cell_type": "code",
   "execution_count": null,
   "id": "b2c892e6",
   "metadata": {},
   "outputs": [],
   "source": [
    "print(X_train.shape, X_test.shape)\n",
    "print(y_train.shape, y_test.shape)\n",
    "print (X.shape)"
   ]
  },
  {
   "cell_type": "code",
   "execution_count": null,
   "id": "7b0b06b0",
   "metadata": {},
   "outputs": [],
   "source": [
    "test_model = MLPClassifier(hidden_layer_sizes=(20,20,20), learning_rate='constant', learning_rate_init=0.01, max_iter=200, random_state=42)"
   ]
  },
  {
   "cell_type": "code",
   "execution_count": null,
   "id": "ffe3e349",
   "metadata": {},
   "outputs": [],
   "source": [
    "%%time\n",
    "test_model.fit(X_train,y_train)"
   ]
  },
  {
   "cell_type": "code",
   "execution_count": null,
   "id": "612ce305",
   "metadata": {},
   "outputs": [],
   "source": [
    "predictions_1 = test_model.predict(X_test)"
   ]
  },
  {
   "cell_type": "code",
   "execution_count": null,
   "id": "40b6cfd8",
   "metadata": {
    "scrolled": true
   },
   "outputs": [],
   "source": [
    "accuracy_score(y_test,predictions_1)"
   ]
  },
  {
   "cell_type": "code",
   "execution_count": null,
   "id": "cd3aa466",
   "metadata": {},
   "outputs": [],
   "source": [
    "predictions_1 = test_model.predict(X_test)\n",
    "ame_3 = mean_absolute_error(y_test,predictions_1)\n",
    "print(\"Absolute Mean Error:\", ame_3)"
   ]
  },
  {
   "cell_type": "code",
   "execution_count": null,
   "id": "011016f4",
   "metadata": {},
   "outputs": [],
   "source": [
    "neural_df = pd.DataFrame (data= {'real values': y_test,\n",
    "                              'predicted  vaules': predictions_1})\n",
    "neural_df['difference'] = neural_df['predicted  vaules'] - neural_df['real values']\n",
    "neural_df"
   ]
  },
  {
   "cell_type": "code",
   "execution_count": null,
   "id": "3760ad22",
   "metadata": {},
   "outputs": [],
   "source": [
    "neural_df.mean()"
   ]
  },
  {
   "cell_type": "code",
   "execution_count": null,
   "id": "68d48742",
   "metadata": {},
   "outputs": [],
   "source": [
    "neural_df.median()"
   ]
  },
  {
   "cell_type": "code",
   "execution_count": null,
   "id": "8cf21d31",
   "metadata": {},
   "outputs": [],
   "source": [
    "forest_model = RandomForestRegressor(n_estimators=100, criterion= 'squared_error')"
   ]
  },
  {
   "cell_type": "code",
   "execution_count": null,
   "id": "727aea0b",
   "metadata": {},
   "outputs": [],
   "source": [
    "forest_model.fit(X_train,y_train)"
   ]
  },
  {
   "cell_type": "code",
   "execution_count": null,
   "id": "575ea4f3",
   "metadata": {},
   "outputs": [],
   "source": [
    "forest_model.score(X_test,y_test)"
   ]
  },
  {
   "cell_type": "code",
   "execution_count": null,
   "id": "ed6bf13e",
   "metadata": {},
   "outputs": [],
   "source": [
    "y_pred_2 = forest_model.predict(X_test)\n",
    "ame_2 = mean_absolute_error(y_test,y_pred_2)\n",
    "print(\"Absolute Mean Error:\", ame_2)"
   ]
  },
  {
   "cell_type": "code",
   "execution_count": null,
   "id": "b682e37c",
   "metadata": {},
   "outputs": [],
   "source": [
    "forest_df = pd.DataFrame (data= {'real values': y_test,\n",
    "                              'predicted  vaules': y_pred_2})\n",
    "forest_df['difference'] = forest_df['predicted  vaules'] - forest_df['real values']\n",
    "forest_df"
   ]
  },
  {
   "cell_type": "code",
   "execution_count": null,
   "id": "03f68d9a",
   "metadata": {},
   "outputs": [],
   "source": [
    "forest_df.median()"
   ]
  },
  {
   "cell_type": "code",
   "execution_count": null,
   "id": "f4f801b8",
   "metadata": {},
   "outputs": [],
   "source": [
    "forest_df.mean()"
   ]
  },
  {
   "cell_type": "code",
   "execution_count": null,
   "id": "1d2948cb",
   "metadata": {},
   "outputs": [],
   "source": [
    "forest_df.sort_values(by=[\"real values\"], ascending=False)"
   ]
  },
  {
   "cell_type": "code",
   "execution_count": null,
   "id": "419549a1",
   "metadata": {},
   "outputs": [],
   "source": [
    "r2_score(y_pred_2,y_test)"
   ]
  },
  {
   "cell_type": "code",
   "execution_count": null,
   "id": "8ad5b0f6",
   "metadata": {},
   "outputs": [],
   "source": [
    "linear_model = LinearRegression()"
   ]
  },
  {
   "cell_type": "code",
   "execution_count": null,
   "id": "5bc08a9f",
   "metadata": {},
   "outputs": [],
   "source": [
    "linear_model.fit(X_train,y_train)"
   ]
  },
  {
   "cell_type": "code",
   "execution_count": null,
   "id": "92649564",
   "metadata": {},
   "outputs": [],
   "source": [
    "linear_model.score(X_test,y_test)"
   ]
  },
  {
   "cell_type": "code",
   "execution_count": null,
   "id": "8159c8be",
   "metadata": {},
   "outputs": [],
   "source": [
    "y_pred = linear_model.predict(X_test)\n"
   ]
  },
  {
   "cell_type": "code",
   "execution_count": null,
   "id": "49f0fcc8",
   "metadata": {},
   "outputs": [],
   "source": [
    "print(y_pred.shape)"
   ]
  },
  {
   "cell_type": "code",
   "execution_count": null,
   "id": "1ca76720",
   "metadata": {},
   "outputs": [],
   "source": [
    "print(f'X_test shape: {X_test.shape}')\n",
    "print(f'y_test shape: {y_test.shape}')\n",
    "print(f'y_pred shape: {y_pred.shape}')"
   ]
  },
  {
   "cell_type": "code",
   "execution_count": null,
   "id": "c752c472",
   "metadata": {},
   "outputs": [],
   "source": [
    "linear_model.coef_"
   ]
  },
  {
   "cell_type": "code",
   "execution_count": null,
   "id": "b730582a",
   "metadata": {},
   "outputs": [],
   "source": [
    "linear_model.intercept_"
   ]
  },
  {
   "cell_type": "code",
   "execution_count": null,
   "id": "d3cc56b6",
   "metadata": {},
   "outputs": [],
   "source": [
    "mse = mean_squared_error(y_test,y_pred)\n",
    "print (\"mean squared error\",mse)"
   ]
  },
  {
   "cell_type": "code",
   "execution_count": null,
   "id": "cdbce4ab",
   "metadata": {},
   "outputs": [],
   "source": [
    "ame = mean_absolute_error(y_test, y_pred)\n",
    "print(\"Absolute Mean Error:\", ame)"
   ]
  },
  {
   "cell_type": "code",
   "execution_count": null,
   "id": "ab611c02",
   "metadata": {},
   "outputs": [],
   "source": [
    "linear_df = pd.DataFrame (data= {'real values': y_test,\n",
    "                              'predicted  vaules': y_pred})\n",
    "linear_df['difference'] = linear_df['predicted  vaules'] - linear_df['real values']\n",
    "linear_df\n"
   ]
  },
  {
   "cell_type": "code",
   "execution_count": null,
   "id": "68870fdd",
   "metadata": {},
   "outputs": [],
   "source": [
    "linear_df.mean()"
   ]
  },
  {
   "cell_type": "code",
   "execution_count": null,
   "id": "b73dcc08",
   "metadata": {},
   "outputs": [],
   "source": [
    "linear_df.median()"
   ]
  },
  {
   "cell_type": "code",
   "execution_count": null,
   "id": "db663aa9",
   "metadata": {
    "scrolled": false
   },
   "outputs": [],
   "source": [
    "plt.figure(figsize=(10, 6))\n",
    "plt.scatter(range(len(y_test)), y_test, color='blue', label='Actual')\n",
    "plt.scatter(range(len(y_pred)), y_pred, color='red', label='Predicted', alpha=0.5)\n",
    "plt.xlabel('Index')\n",
    "plt.ylabel('Personnel')\n",
    "plt.title('Actual vs Predicted Values')\n",
    "plt.legend()\n",
    "plt.show()"
   ]
  },
  {
   "cell_type": "code",
   "execution_count": null,
   "id": "aa508079",
   "metadata": {},
   "outputs": [],
   "source": [
    "plt.figure(figsize=(10, 6))\n",
    "plt.scatter(X_test['combat_day'], y_test, color='blue', label='Actual')\n",
    "plt.scatter(X_test['combat_day'], y_pred, color='red', label='Predicted', alpha=0.5)\n",
    "plt.xlabel('Combat Day')\n",
    "plt.ylabel('Personnel')\n",
    "plt.title('Regression Line for Combat Day')\n",
    "plt.legend()\n",
    "plt.show()"
   ]
  },
  {
   "cell_type": "code",
   "execution_count": null,
   "id": "3e18a7a0",
   "metadata": {},
   "outputs": [],
   "source": [
    "plt.figure(figsize=(10, 6))\n",
    "sns.residplot(x=y_test, y=y_test - y_pred, lowess=True, color='purple')\n",
    "plt.xlabel('Actual Personnel')\n",
    "plt.ylabel('Residuals')\n",
    "plt.title('Residuals vs. Actual Values')\n",
    "plt.show()"
   ]
  },
  {
   "cell_type": "code",
   "execution_count": null,
   "id": "4c96f27e",
   "metadata": {},
   "outputs": [],
   "source": [
    "r2_score(y_pred,y_test)"
   ]
  },
  {
   "cell_type": "code",
   "execution_count": null,
   "id": "4a1642d2",
   "metadata": {},
   "outputs": [],
   "source": [
    "linear_df.sort_values(by=[\"real values\"], ascending=False)\n"
   ]
  },
  {
   "cell_type": "code",
   "execution_count": null,
   "id": "51672a45",
   "metadata": {},
   "outputs": [],
   "source": [
    "linear_df.head(10)"
   ]
  },
  {
   "cell_type": "code",
   "execution_count": null,
   "id": "fd59f3ba",
   "metadata": {},
   "outputs": [],
   "source": [
    "len(y_pred)"
   ]
  },
  {
   "cell_type": "code",
   "execution_count": null,
   "id": "ea599bbb",
   "metadata": {},
   "outputs": [],
   "source": []
  }
 ],
 "metadata": {
  "kernelspec": {
   "display_name": "Python 3 (ipykernel)",
   "language": "python",
   "name": "python3"
  },
  "language_info": {
   "codemirror_mode": {
    "name": "ipython",
    "version": 3
   },
   "file_extension": ".py",
   "mimetype": "text/x-python",
   "name": "python",
   "nbconvert_exporter": "python",
   "pygments_lexer": "ipython3",
   "version": "3.10.7"
  }
 },
 "nbformat": 4,
 "nbformat_minor": 5
}
