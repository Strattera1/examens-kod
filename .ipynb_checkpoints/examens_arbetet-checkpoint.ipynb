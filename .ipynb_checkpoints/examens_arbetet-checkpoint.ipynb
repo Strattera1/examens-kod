{
 "cells": [
  {
   "cell_type": "code",
   "execution_count": 1,
   "id": "b8c80789",
   "metadata": {},
   "outputs": [],
   "source": [
    "import pandas as pd\n",
    "import seaborn as sns\n",
    "import numpy as np\n",
    "from sklearn.neural_network import MLPClassifier\n",
    "import matplotlib.pyplot as plt\n",
    "from sklearn.metrics import accuracy_score, classification_report, confusion_matrix, mean_absolute_error,r2_score,mean_squared_error\n",
    "from sklearn.preprocessing import OneHotEncoder, LabelEncoder, StandardScaler\n",
    "from seaborn import lineplot\n",
    "from sklearn.model_selection import train_test_split\n",
    "from sklearn.ensemble import RandomForestClassifier, RandomForestRegressor\n",
    "from sklearn.tree import DecisionTreeClassifier\n",
    "from sklearn.linear_model import LinearRegression\n",
    "from sklearn.dummy import DummyClassifier, DummyRegressor\n",
    "from sklearn import svm\n",
    "from sklearn.svm import SVC\n"
   ]
  },
  {
   "cell_type": "code",
   "execution_count": 2,
   "id": "edfc740a",
   "metadata": {},
   "outputs": [
    {
     "ename": "FileNotFoundError",
     "evalue": "[Errno 2] No such file or directory: 'russia_losses_personnel.csv'",
     "output_type": "error",
     "traceback": [
      "\u001b[1;31m---------------------------------------------------------------------------\u001b[0m",
      "\u001b[1;31mFileNotFoundError\u001b[0m                         Traceback (most recent call last)",
      "Cell \u001b[1;32mIn[2], line 1\u001b[0m\n\u001b[1;32m----> 1\u001b[0m personal_df \u001b[38;5;241m=\u001b[39m \u001b[43mpd\u001b[49m\u001b[38;5;241;43m.\u001b[39;49m\u001b[43mread_csv\u001b[49m\u001b[43m(\u001b[49m\u001b[38;5;124;43m\"\u001b[39;49m\u001b[38;5;124;43mrussia_losses_personnel.csv\u001b[39;49m\u001b[38;5;124;43m\"\u001b[39;49m\u001b[43m)\u001b[49m\n",
      "File \u001b[1;32mc:\\Users\\nille\\anaconda3\\lib\\site-packages\\pandas\\util\\_decorators.py:211\u001b[0m, in \u001b[0;36mdeprecate_kwarg.<locals>._deprecate_kwarg.<locals>.wrapper\u001b[1;34m(*args, **kwargs)\u001b[0m\n\u001b[0;32m    209\u001b[0m     \u001b[38;5;28;01melse\u001b[39;00m:\n\u001b[0;32m    210\u001b[0m         kwargs[new_arg_name] \u001b[38;5;241m=\u001b[39m new_arg_value\n\u001b[1;32m--> 211\u001b[0m \u001b[38;5;28;01mreturn\u001b[39;00m func(\u001b[38;5;241m*\u001b[39margs, \u001b[38;5;241m*\u001b[39m\u001b[38;5;241m*\u001b[39mkwargs)\n",
      "File \u001b[1;32mc:\\Users\\nille\\anaconda3\\lib\\site-packages\\pandas\\util\\_decorators.py:331\u001b[0m, in \u001b[0;36mdeprecate_nonkeyword_arguments.<locals>.decorate.<locals>.wrapper\u001b[1;34m(*args, **kwargs)\u001b[0m\n\u001b[0;32m    325\u001b[0m \u001b[38;5;28;01mif\u001b[39;00m \u001b[38;5;28mlen\u001b[39m(args) \u001b[38;5;241m>\u001b[39m num_allow_args:\n\u001b[0;32m    326\u001b[0m     warnings\u001b[38;5;241m.\u001b[39mwarn(\n\u001b[0;32m    327\u001b[0m         msg\u001b[38;5;241m.\u001b[39mformat(arguments\u001b[38;5;241m=\u001b[39m_format_argument_list(allow_args)),\n\u001b[0;32m    328\u001b[0m         \u001b[38;5;167;01mFutureWarning\u001b[39;00m,\n\u001b[0;32m    329\u001b[0m         stacklevel\u001b[38;5;241m=\u001b[39mfind_stack_level(),\n\u001b[0;32m    330\u001b[0m     )\n\u001b[1;32m--> 331\u001b[0m \u001b[38;5;28;01mreturn\u001b[39;00m func(\u001b[38;5;241m*\u001b[39margs, \u001b[38;5;241m*\u001b[39m\u001b[38;5;241m*\u001b[39mkwargs)\n",
      "File \u001b[1;32mc:\\Users\\nille\\anaconda3\\lib\\site-packages\\pandas\\io\\parsers\\readers.py:950\u001b[0m, in \u001b[0;36mread_csv\u001b[1;34m(filepath_or_buffer, sep, delimiter, header, names, index_col, usecols, squeeze, prefix, mangle_dupe_cols, dtype, engine, converters, true_values, false_values, skipinitialspace, skiprows, skipfooter, nrows, na_values, keep_default_na, na_filter, verbose, skip_blank_lines, parse_dates, infer_datetime_format, keep_date_col, date_parser, dayfirst, cache_dates, iterator, chunksize, compression, thousands, decimal, lineterminator, quotechar, quoting, doublequote, escapechar, comment, encoding, encoding_errors, dialect, error_bad_lines, warn_bad_lines, on_bad_lines, delim_whitespace, low_memory, memory_map, float_precision, storage_options)\u001b[0m\n\u001b[0;32m    935\u001b[0m kwds_defaults \u001b[38;5;241m=\u001b[39m _refine_defaults_read(\n\u001b[0;32m    936\u001b[0m     dialect,\n\u001b[0;32m    937\u001b[0m     delimiter,\n\u001b[1;32m   (...)\u001b[0m\n\u001b[0;32m    946\u001b[0m     defaults\u001b[38;5;241m=\u001b[39m{\u001b[38;5;124m\"\u001b[39m\u001b[38;5;124mdelimiter\u001b[39m\u001b[38;5;124m\"\u001b[39m: \u001b[38;5;124m\"\u001b[39m\u001b[38;5;124m,\u001b[39m\u001b[38;5;124m\"\u001b[39m},\n\u001b[0;32m    947\u001b[0m )\n\u001b[0;32m    948\u001b[0m kwds\u001b[38;5;241m.\u001b[39mupdate(kwds_defaults)\n\u001b[1;32m--> 950\u001b[0m \u001b[38;5;28;01mreturn\u001b[39;00m \u001b[43m_read\u001b[49m\u001b[43m(\u001b[49m\u001b[43mfilepath_or_buffer\u001b[49m\u001b[43m,\u001b[49m\u001b[43m \u001b[49m\u001b[43mkwds\u001b[49m\u001b[43m)\u001b[49m\n",
      "File \u001b[1;32mc:\\Users\\nille\\anaconda3\\lib\\site-packages\\pandas\\io\\parsers\\readers.py:605\u001b[0m, in \u001b[0;36m_read\u001b[1;34m(filepath_or_buffer, kwds)\u001b[0m\n\u001b[0;32m    602\u001b[0m _validate_names(kwds\u001b[38;5;241m.\u001b[39mget(\u001b[38;5;124m\"\u001b[39m\u001b[38;5;124mnames\u001b[39m\u001b[38;5;124m\"\u001b[39m, \u001b[38;5;28;01mNone\u001b[39;00m))\n\u001b[0;32m    604\u001b[0m \u001b[38;5;66;03m# Create the parser.\u001b[39;00m\n\u001b[1;32m--> 605\u001b[0m parser \u001b[38;5;241m=\u001b[39m TextFileReader(filepath_or_buffer, \u001b[38;5;241m*\u001b[39m\u001b[38;5;241m*\u001b[39mkwds)\n\u001b[0;32m    607\u001b[0m \u001b[38;5;28;01mif\u001b[39;00m chunksize \u001b[38;5;129;01mor\u001b[39;00m iterator:\n\u001b[0;32m    608\u001b[0m     \u001b[38;5;28;01mreturn\u001b[39;00m parser\n",
      "File \u001b[1;32mc:\\Users\\nille\\anaconda3\\lib\\site-packages\\pandas\\io\\parsers\\readers.py:1442\u001b[0m, in \u001b[0;36mTextFileReader.__init__\u001b[1;34m(self, f, engine, **kwds)\u001b[0m\n\u001b[0;32m   1439\u001b[0m     \u001b[38;5;28mself\u001b[39m\u001b[38;5;241m.\u001b[39moptions[\u001b[38;5;124m\"\u001b[39m\u001b[38;5;124mhas_index_names\u001b[39m\u001b[38;5;124m\"\u001b[39m] \u001b[38;5;241m=\u001b[39m kwds[\u001b[38;5;124m\"\u001b[39m\u001b[38;5;124mhas_index_names\u001b[39m\u001b[38;5;124m\"\u001b[39m]\n\u001b[0;32m   1441\u001b[0m \u001b[38;5;28mself\u001b[39m\u001b[38;5;241m.\u001b[39mhandles: IOHandles \u001b[38;5;241m|\u001b[39m \u001b[38;5;28;01mNone\u001b[39;00m \u001b[38;5;241m=\u001b[39m \u001b[38;5;28;01mNone\u001b[39;00m\n\u001b[1;32m-> 1442\u001b[0m \u001b[38;5;28mself\u001b[39m\u001b[38;5;241m.\u001b[39m_engine \u001b[38;5;241m=\u001b[39m \u001b[38;5;28;43mself\u001b[39;49m\u001b[38;5;241;43m.\u001b[39;49m\u001b[43m_make_engine\u001b[49m\u001b[43m(\u001b[49m\u001b[43mf\u001b[49m\u001b[43m,\u001b[49m\u001b[43m \u001b[49m\u001b[38;5;28;43mself\u001b[39;49m\u001b[38;5;241;43m.\u001b[39;49m\u001b[43mengine\u001b[49m\u001b[43m)\u001b[49m\n",
      "File \u001b[1;32mc:\\Users\\nille\\anaconda3\\lib\\site-packages\\pandas\\io\\parsers\\readers.py:1735\u001b[0m, in \u001b[0;36mTextFileReader._make_engine\u001b[1;34m(self, f, engine)\u001b[0m\n\u001b[0;32m   1733\u001b[0m     \u001b[38;5;28;01mif\u001b[39;00m \u001b[38;5;124m\"\u001b[39m\u001b[38;5;124mb\u001b[39m\u001b[38;5;124m\"\u001b[39m \u001b[38;5;129;01mnot\u001b[39;00m \u001b[38;5;129;01min\u001b[39;00m mode:\n\u001b[0;32m   1734\u001b[0m         mode \u001b[38;5;241m+\u001b[39m\u001b[38;5;241m=\u001b[39m \u001b[38;5;124m\"\u001b[39m\u001b[38;5;124mb\u001b[39m\u001b[38;5;124m\"\u001b[39m\n\u001b[1;32m-> 1735\u001b[0m \u001b[38;5;28mself\u001b[39m\u001b[38;5;241m.\u001b[39mhandles \u001b[38;5;241m=\u001b[39m \u001b[43mget_handle\u001b[49m\u001b[43m(\u001b[49m\n\u001b[0;32m   1736\u001b[0m \u001b[43m    \u001b[49m\u001b[43mf\u001b[49m\u001b[43m,\u001b[49m\n\u001b[0;32m   1737\u001b[0m \u001b[43m    \u001b[49m\u001b[43mmode\u001b[49m\u001b[43m,\u001b[49m\n\u001b[0;32m   1738\u001b[0m \u001b[43m    \u001b[49m\u001b[43mencoding\u001b[49m\u001b[38;5;241;43m=\u001b[39;49m\u001b[38;5;28;43mself\u001b[39;49m\u001b[38;5;241;43m.\u001b[39;49m\u001b[43moptions\u001b[49m\u001b[38;5;241;43m.\u001b[39;49m\u001b[43mget\u001b[49m\u001b[43m(\u001b[49m\u001b[38;5;124;43m\"\u001b[39;49m\u001b[38;5;124;43mencoding\u001b[39;49m\u001b[38;5;124;43m\"\u001b[39;49m\u001b[43m,\u001b[49m\u001b[43m \u001b[49m\u001b[38;5;28;43;01mNone\u001b[39;49;00m\u001b[43m)\u001b[49m\u001b[43m,\u001b[49m\n\u001b[0;32m   1739\u001b[0m \u001b[43m    \u001b[49m\u001b[43mcompression\u001b[49m\u001b[38;5;241;43m=\u001b[39;49m\u001b[38;5;28;43mself\u001b[39;49m\u001b[38;5;241;43m.\u001b[39;49m\u001b[43moptions\u001b[49m\u001b[38;5;241;43m.\u001b[39;49m\u001b[43mget\u001b[49m\u001b[43m(\u001b[49m\u001b[38;5;124;43m\"\u001b[39;49m\u001b[38;5;124;43mcompression\u001b[39;49m\u001b[38;5;124;43m\"\u001b[39;49m\u001b[43m,\u001b[49m\u001b[43m \u001b[49m\u001b[38;5;28;43;01mNone\u001b[39;49;00m\u001b[43m)\u001b[49m\u001b[43m,\u001b[49m\n\u001b[0;32m   1740\u001b[0m \u001b[43m    \u001b[49m\u001b[43mmemory_map\u001b[49m\u001b[38;5;241;43m=\u001b[39;49m\u001b[38;5;28;43mself\u001b[39;49m\u001b[38;5;241;43m.\u001b[39;49m\u001b[43moptions\u001b[49m\u001b[38;5;241;43m.\u001b[39;49m\u001b[43mget\u001b[49m\u001b[43m(\u001b[49m\u001b[38;5;124;43m\"\u001b[39;49m\u001b[38;5;124;43mmemory_map\u001b[39;49m\u001b[38;5;124;43m\"\u001b[39;49m\u001b[43m,\u001b[49m\u001b[43m \u001b[49m\u001b[38;5;28;43;01mFalse\u001b[39;49;00m\u001b[43m)\u001b[49m\u001b[43m,\u001b[49m\n\u001b[0;32m   1741\u001b[0m \u001b[43m    \u001b[49m\u001b[43mis_text\u001b[49m\u001b[38;5;241;43m=\u001b[39;49m\u001b[43mis_text\u001b[49m\u001b[43m,\u001b[49m\n\u001b[0;32m   1742\u001b[0m \u001b[43m    \u001b[49m\u001b[43merrors\u001b[49m\u001b[38;5;241;43m=\u001b[39;49m\u001b[38;5;28;43mself\u001b[39;49m\u001b[38;5;241;43m.\u001b[39;49m\u001b[43moptions\u001b[49m\u001b[38;5;241;43m.\u001b[39;49m\u001b[43mget\u001b[49m\u001b[43m(\u001b[49m\u001b[38;5;124;43m\"\u001b[39;49m\u001b[38;5;124;43mencoding_errors\u001b[39;49m\u001b[38;5;124;43m\"\u001b[39;49m\u001b[43m,\u001b[49m\u001b[43m \u001b[49m\u001b[38;5;124;43m\"\u001b[39;49m\u001b[38;5;124;43mstrict\u001b[39;49m\u001b[38;5;124;43m\"\u001b[39;49m\u001b[43m)\u001b[49m\u001b[43m,\u001b[49m\n\u001b[0;32m   1743\u001b[0m \u001b[43m    \u001b[49m\u001b[43mstorage_options\u001b[49m\u001b[38;5;241;43m=\u001b[39;49m\u001b[38;5;28;43mself\u001b[39;49m\u001b[38;5;241;43m.\u001b[39;49m\u001b[43moptions\u001b[49m\u001b[38;5;241;43m.\u001b[39;49m\u001b[43mget\u001b[49m\u001b[43m(\u001b[49m\u001b[38;5;124;43m\"\u001b[39;49m\u001b[38;5;124;43mstorage_options\u001b[39;49m\u001b[38;5;124;43m\"\u001b[39;49m\u001b[43m,\u001b[49m\u001b[43m \u001b[49m\u001b[38;5;28;43;01mNone\u001b[39;49;00m\u001b[43m)\u001b[49m\u001b[43m,\u001b[49m\n\u001b[0;32m   1744\u001b[0m \u001b[43m\u001b[49m\u001b[43m)\u001b[49m\n\u001b[0;32m   1745\u001b[0m \u001b[38;5;28;01massert\u001b[39;00m \u001b[38;5;28mself\u001b[39m\u001b[38;5;241m.\u001b[39mhandles \u001b[38;5;129;01mis\u001b[39;00m \u001b[38;5;129;01mnot\u001b[39;00m \u001b[38;5;28;01mNone\u001b[39;00m\n\u001b[0;32m   1746\u001b[0m f \u001b[38;5;241m=\u001b[39m \u001b[38;5;28mself\u001b[39m\u001b[38;5;241m.\u001b[39mhandles\u001b[38;5;241m.\u001b[39mhandle\n",
      "File \u001b[1;32mc:\\Users\\nille\\anaconda3\\lib\\site-packages\\pandas\\io\\common.py:856\u001b[0m, in \u001b[0;36mget_handle\u001b[1;34m(path_or_buf, mode, encoding, compression, memory_map, is_text, errors, storage_options)\u001b[0m\n\u001b[0;32m    851\u001b[0m \u001b[38;5;28;01melif\u001b[39;00m \u001b[38;5;28misinstance\u001b[39m(handle, \u001b[38;5;28mstr\u001b[39m):\n\u001b[0;32m    852\u001b[0m     \u001b[38;5;66;03m# Check whether the filename is to be opened in binary mode.\u001b[39;00m\n\u001b[0;32m    853\u001b[0m     \u001b[38;5;66;03m# Binary mode does not support 'encoding' and 'newline'.\u001b[39;00m\n\u001b[0;32m    854\u001b[0m     \u001b[38;5;28;01mif\u001b[39;00m ioargs\u001b[38;5;241m.\u001b[39mencoding \u001b[38;5;129;01mand\u001b[39;00m \u001b[38;5;124m\"\u001b[39m\u001b[38;5;124mb\u001b[39m\u001b[38;5;124m\"\u001b[39m \u001b[38;5;129;01mnot\u001b[39;00m \u001b[38;5;129;01min\u001b[39;00m ioargs\u001b[38;5;241m.\u001b[39mmode:\n\u001b[0;32m    855\u001b[0m         \u001b[38;5;66;03m# Encoding\u001b[39;00m\n\u001b[1;32m--> 856\u001b[0m         handle \u001b[38;5;241m=\u001b[39m \u001b[38;5;28;43mopen\u001b[39;49m\u001b[43m(\u001b[49m\n\u001b[0;32m    857\u001b[0m \u001b[43m            \u001b[49m\u001b[43mhandle\u001b[49m\u001b[43m,\u001b[49m\n\u001b[0;32m    858\u001b[0m \u001b[43m            \u001b[49m\u001b[43mioargs\u001b[49m\u001b[38;5;241;43m.\u001b[39;49m\u001b[43mmode\u001b[49m\u001b[43m,\u001b[49m\n\u001b[0;32m    859\u001b[0m \u001b[43m            \u001b[49m\u001b[43mencoding\u001b[49m\u001b[38;5;241;43m=\u001b[39;49m\u001b[43mioargs\u001b[49m\u001b[38;5;241;43m.\u001b[39;49m\u001b[43mencoding\u001b[49m\u001b[43m,\u001b[49m\n\u001b[0;32m    860\u001b[0m \u001b[43m            \u001b[49m\u001b[43merrors\u001b[49m\u001b[38;5;241;43m=\u001b[39;49m\u001b[43merrors\u001b[49m\u001b[43m,\u001b[49m\n\u001b[0;32m    861\u001b[0m \u001b[43m            \u001b[49m\u001b[43mnewline\u001b[49m\u001b[38;5;241;43m=\u001b[39;49m\u001b[38;5;124;43m\"\u001b[39;49m\u001b[38;5;124;43m\"\u001b[39;49m\u001b[43m,\u001b[49m\n\u001b[0;32m    862\u001b[0m \u001b[43m        \u001b[49m\u001b[43m)\u001b[49m\n\u001b[0;32m    863\u001b[0m     \u001b[38;5;28;01melse\u001b[39;00m:\n\u001b[0;32m    864\u001b[0m         \u001b[38;5;66;03m# Binary mode\u001b[39;00m\n\u001b[0;32m    865\u001b[0m         handle \u001b[38;5;241m=\u001b[39m \u001b[38;5;28mopen\u001b[39m(handle, ioargs\u001b[38;5;241m.\u001b[39mmode)\n",
      "\u001b[1;31mFileNotFoundError\u001b[0m: [Errno 2] No such file or directory: 'russia_losses_personnel.csv'"
     ]
    }
   ],
   "source": [
    "personal_df = pd.read_csv(\"russia_losses_personnel.csv\")"
   ]
  },
  {
   "cell_type": "code",
   "execution_count": null,
   "id": "4ae45f15",
   "metadata": {},
   "outputs": [],
   "source": [
    "equpiment_loses_df = pd.read_csv(\"russia_losses_equipment.csv\")"
   ]
  },
  {
   "cell_type": "code",
   "execution_count": null,
   "id": "203e255a",
   "metadata": {},
   "outputs": [],
   "source": [
    "equpiment_loses_correction_df = pd.read_csv(\"russia_losses_equipment_correction.csv\")"
   ]
  },
  {
   "cell_type": "code",
   "execution_count": null,
   "id": "5b0d9ff1",
   "metadata": {},
   "outputs": [
    {
     "data": {
      "text/html": [
       "<div>\n",
       "<style scoped>\n",
       "    .dataframe tbody tr th:only-of-type {\n",
       "        vertical-align: middle;\n",
       "    }\n",
       "\n",
       "    .dataframe tbody tr th {\n",
       "        vertical-align: top;\n",
       "    }\n",
       "\n",
       "    .dataframe thead th {\n",
       "        text-align: right;\n",
       "    }\n",
       "</style>\n",
       "<table border=\"1\" class=\"dataframe\">\n",
       "  <thead>\n",
       "    <tr style=\"text-align: right;\">\n",
       "      <th></th>\n",
       "      <th>date</th>\n",
       "      <th>day</th>\n",
       "      <th>personnel</th>\n",
       "      <th>personnel*</th>\n",
       "      <th>POW</th>\n",
       "    </tr>\n",
       "  </thead>\n",
       "  <tbody>\n",
       "    <tr>\n",
       "      <th>0</th>\n",
       "      <td>2024-06-09</td>\n",
       "      <td>837</td>\n",
       "      <td>518560</td>\n",
       "      <td>about</td>\n",
       "      <td>NaN</td>\n",
       "    </tr>\n",
       "    <tr>\n",
       "      <th>1</th>\n",
       "      <td>2024-06-08</td>\n",
       "      <td>836</td>\n",
       "      <td>517290</td>\n",
       "      <td>about</td>\n",
       "      <td>NaN</td>\n",
       "    </tr>\n",
       "    <tr>\n",
       "      <th>2</th>\n",
       "      <td>2024-06-07</td>\n",
       "      <td>835</td>\n",
       "      <td>516080</td>\n",
       "      <td>about</td>\n",
       "      <td>NaN</td>\n",
       "    </tr>\n",
       "    <tr>\n",
       "      <th>3</th>\n",
       "      <td>2024-06-06</td>\n",
       "      <td>834</td>\n",
       "      <td>515000</td>\n",
       "      <td>about</td>\n",
       "      <td>NaN</td>\n",
       "    </tr>\n",
       "    <tr>\n",
       "      <th>4</th>\n",
       "      <td>2024-06-05</td>\n",
       "      <td>833</td>\n",
       "      <td>513700</td>\n",
       "      <td>about</td>\n",
       "      <td>NaN</td>\n",
       "    </tr>\n",
       "    <tr>\n",
       "      <th>5</th>\n",
       "      <td>2024-06-04</td>\n",
       "      <td>832</td>\n",
       "      <td>512420</td>\n",
       "      <td>about</td>\n",
       "      <td>NaN</td>\n",
       "    </tr>\n",
       "    <tr>\n",
       "      <th>6</th>\n",
       "      <td>2024-06-03</td>\n",
       "      <td>831</td>\n",
       "      <td>511130</td>\n",
       "      <td>about</td>\n",
       "      <td>NaN</td>\n",
       "    </tr>\n",
       "    <tr>\n",
       "      <th>7</th>\n",
       "      <td>2024-06-02</td>\n",
       "      <td>830</td>\n",
       "      <td>509860</td>\n",
       "      <td>about</td>\n",
       "      <td>NaN</td>\n",
       "    </tr>\n",
       "    <tr>\n",
       "      <th>8</th>\n",
       "      <td>2024-06-01</td>\n",
       "      <td>829</td>\n",
       "      <td>508780</td>\n",
       "      <td>about</td>\n",
       "      <td>NaN</td>\n",
       "    </tr>\n",
       "    <tr>\n",
       "      <th>9</th>\n",
       "      <td>2024-05-31</td>\n",
       "      <td>828</td>\n",
       "      <td>507650</td>\n",
       "      <td>about</td>\n",
       "      <td>NaN</td>\n",
       "    </tr>\n",
       "    <tr>\n",
       "      <th>10</th>\n",
       "      <td>2024-05-30</td>\n",
       "      <td>827</td>\n",
       "      <td>506260</td>\n",
       "      <td>about</td>\n",
       "      <td>NaN</td>\n",
       "    </tr>\n",
       "    <tr>\n",
       "      <th>11</th>\n",
       "      <td>2024-05-29</td>\n",
       "      <td>826</td>\n",
       "      <td>505100</td>\n",
       "      <td>about</td>\n",
       "      <td>NaN</td>\n",
       "    </tr>\n",
       "    <tr>\n",
       "      <th>12</th>\n",
       "      <td>2024-05-28</td>\n",
       "      <td>825</td>\n",
       "      <td>503800</td>\n",
       "      <td>about</td>\n",
       "      <td>NaN</td>\n",
       "    </tr>\n",
       "    <tr>\n",
       "      <th>13</th>\n",
       "      <td>2024-05-27</td>\n",
       "      <td>824</td>\n",
       "      <td>502340</td>\n",
       "      <td>about</td>\n",
       "      <td>NaN</td>\n",
       "    </tr>\n",
       "    <tr>\n",
       "      <th>14</th>\n",
       "      <td>2024-05-26</td>\n",
       "      <td>823</td>\n",
       "      <td>501190</td>\n",
       "      <td>about</td>\n",
       "      <td>NaN</td>\n",
       "    </tr>\n",
       "    <tr>\n",
       "      <th>15</th>\n",
       "      <td>2024-05-25</td>\n",
       "      <td>822</td>\n",
       "      <td>500080</td>\n",
       "      <td>about</td>\n",
       "      <td>NaN</td>\n",
       "    </tr>\n",
       "    <tr>\n",
       "      <th>16</th>\n",
       "      <td>2024-05-24</td>\n",
       "      <td>821</td>\n",
       "      <td>498940</td>\n",
       "      <td>about</td>\n",
       "      <td>NaN</td>\n",
       "    </tr>\n",
       "    <tr>\n",
       "      <th>17</th>\n",
       "      <td>2024-05-23</td>\n",
       "      <td>820</td>\n",
       "      <td>497700</td>\n",
       "      <td>about</td>\n",
       "      <td>NaN</td>\n",
       "    </tr>\n",
       "    <tr>\n",
       "      <th>18</th>\n",
       "      <td>2024-05-22</td>\n",
       "      <td>819</td>\n",
       "      <td>496370</td>\n",
       "      <td>about</td>\n",
       "      <td>NaN</td>\n",
       "    </tr>\n",
       "    <tr>\n",
       "      <th>19</th>\n",
       "      <td>2024-05-21</td>\n",
       "      <td>818</td>\n",
       "      <td>495070</td>\n",
       "      <td>about</td>\n",
       "      <td>NaN</td>\n",
       "    </tr>\n",
       "  </tbody>\n",
       "</table>\n",
       "</div>"
      ],
      "text/plain": [
       "          date  day  personnel personnel*  POW\n",
       "0   2024-06-09  837     518560      about  NaN\n",
       "1   2024-06-08  836     517290      about  NaN\n",
       "2   2024-06-07  835     516080      about  NaN\n",
       "3   2024-06-06  834     515000      about  NaN\n",
       "4   2024-06-05  833     513700      about  NaN\n",
       "5   2024-06-04  832     512420      about  NaN\n",
       "6   2024-06-03  831     511130      about  NaN\n",
       "7   2024-06-02  830     509860      about  NaN\n",
       "8   2024-06-01  829     508780      about  NaN\n",
       "9   2024-05-31  828     507650      about  NaN\n",
       "10  2024-05-30  827     506260      about  NaN\n",
       "11  2024-05-29  826     505100      about  NaN\n",
       "12  2024-05-28  825     503800      about  NaN\n",
       "13  2024-05-27  824     502340      about  NaN\n",
       "14  2024-05-26  823     501190      about  NaN\n",
       "15  2024-05-25  822     500080      about  NaN\n",
       "16  2024-05-24  821     498940      about  NaN\n",
       "17  2024-05-23  820     497700      about  NaN\n",
       "18  2024-05-22  819     496370      about  NaN\n",
       "19  2024-05-21  818     495070      about  NaN"
      ]
     },
     "execution_count": 5,
     "metadata": {},
     "output_type": "execute_result"
    }
   ],
   "source": [
    "personal_df.head(20)"
   ]
  },
  {
   "cell_type": "code",
   "execution_count": null,
   "id": "b66c978c",
   "metadata": {},
   "outputs": [
    {
     "data": {
      "text/html": [
       "<div>\n",
       "<style scoped>\n",
       "    .dataframe tbody tr th:only-of-type {\n",
       "        vertical-align: middle;\n",
       "    }\n",
       "\n",
       "    .dataframe tbody tr th {\n",
       "        vertical-align: top;\n",
       "    }\n",
       "\n",
       "    .dataframe thead th {\n",
       "        text-align: right;\n",
       "    }\n",
       "</style>\n",
       "<table border=\"1\" class=\"dataframe\">\n",
       "  <thead>\n",
       "    <tr style=\"text-align: right;\">\n",
       "      <th></th>\n",
       "      <th>date</th>\n",
       "      <th>day</th>\n",
       "      <th>aircraft</th>\n",
       "      <th>helicopter</th>\n",
       "      <th>tank</th>\n",
       "      <th>APC</th>\n",
       "      <th>field artillery</th>\n",
       "      <th>MRL</th>\n",
       "      <th>military auto</th>\n",
       "      <th>fuel tank</th>\n",
       "      <th>drone</th>\n",
       "      <th>naval ship</th>\n",
       "      <th>anti-aircraft warfare</th>\n",
       "      <th>special equipment</th>\n",
       "      <th>mobile SRBM system</th>\n",
       "      <th>greatest losses direction</th>\n",
       "      <th>vehicles and fuel tanks</th>\n",
       "      <th>cruise missiles</th>\n",
       "      <th>submarines</th>\n",
       "    </tr>\n",
       "  </thead>\n",
       "  <tbody>\n",
       "    <tr>\n",
       "      <th>0</th>\n",
       "      <td>2024-06-09</td>\n",
       "      <td>837</td>\n",
       "      <td>357</td>\n",
       "      <td>326</td>\n",
       "      <td>7869</td>\n",
       "      <td>15131</td>\n",
       "      <td>13593</td>\n",
       "      <td>1097</td>\n",
       "      <td>NaN</td>\n",
       "      <td>NaN</td>\n",
       "      <td>10982</td>\n",
       "      <td>28</td>\n",
       "      <td>836</td>\n",
       "      <td>2253.0</td>\n",
       "      <td>NaN</td>\n",
       "      <td>NaN</td>\n",
       "      <td>18562.0</td>\n",
       "      <td>2277.0</td>\n",
       "      <td>1.0</td>\n",
       "    </tr>\n",
       "    <tr>\n",
       "      <th>1</th>\n",
       "      <td>2024-06-08</td>\n",
       "      <td>836</td>\n",
       "      <td>357</td>\n",
       "      <td>326</td>\n",
       "      <td>7843</td>\n",
       "      <td>15105</td>\n",
       "      <td>13533</td>\n",
       "      <td>1095</td>\n",
       "      <td>NaN</td>\n",
       "      <td>NaN</td>\n",
       "      <td>10945</td>\n",
       "      <td>28</td>\n",
       "      <td>834</td>\n",
       "      <td>2248.0</td>\n",
       "      <td>NaN</td>\n",
       "      <td>NaN</td>\n",
       "      <td>18484.0</td>\n",
       "      <td>2277.0</td>\n",
       "      <td>1.0</td>\n",
       "    </tr>\n",
       "    <tr>\n",
       "      <th>2</th>\n",
       "      <td>2024-06-07</td>\n",
       "      <td>835</td>\n",
       "      <td>357</td>\n",
       "      <td>326</td>\n",
       "      <td>7834</td>\n",
       "      <td>15096</td>\n",
       "      <td>13497</td>\n",
       "      <td>1095</td>\n",
       "      <td>NaN</td>\n",
       "      <td>NaN</td>\n",
       "      <td>10886</td>\n",
       "      <td>28</td>\n",
       "      <td>833</td>\n",
       "      <td>2238.0</td>\n",
       "      <td>NaN</td>\n",
       "      <td>NaN</td>\n",
       "      <td>18416.0</td>\n",
       "      <td>2270.0</td>\n",
       "      <td>1.0</td>\n",
       "    </tr>\n",
       "    <tr>\n",
       "      <th>3</th>\n",
       "      <td>2024-06-06</td>\n",
       "      <td>834</td>\n",
       "      <td>357</td>\n",
       "      <td>326</td>\n",
       "      <td>7828</td>\n",
       "      <td>15076</td>\n",
       "      <td>13433</td>\n",
       "      <td>1095</td>\n",
       "      <td>NaN</td>\n",
       "      <td>NaN</td>\n",
       "      <td>10846</td>\n",
       "      <td>27</td>\n",
       "      <td>831</td>\n",
       "      <td>2230.0</td>\n",
       "      <td>NaN</td>\n",
       "      <td>NaN</td>\n",
       "      <td>18360.0</td>\n",
       "      <td>2270.0</td>\n",
       "      <td>1.0</td>\n",
       "    </tr>\n",
       "    <tr>\n",
       "      <th>4</th>\n",
       "      <td>2024-06-05</td>\n",
       "      <td>833</td>\n",
       "      <td>357</td>\n",
       "      <td>326</td>\n",
       "      <td>7806</td>\n",
       "      <td>15036</td>\n",
       "      <td>13385</td>\n",
       "      <td>1092</td>\n",
       "      <td>NaN</td>\n",
       "      <td>NaN</td>\n",
       "      <td>10805</td>\n",
       "      <td>27</td>\n",
       "      <td>830</td>\n",
       "      <td>2223.0</td>\n",
       "      <td>NaN</td>\n",
       "      <td>NaN</td>\n",
       "      <td>18297.0</td>\n",
       "      <td>2270.0</td>\n",
       "      <td>1.0</td>\n",
       "    </tr>\n",
       "  </tbody>\n",
       "</table>\n",
       "</div>"
      ],
      "text/plain": [
       "         date  day  aircraft  helicopter  tank    APC  field artillery   MRL  \\\n",
       "0  2024-06-09  837       357         326  7869  15131            13593  1097   \n",
       "1  2024-06-08  836       357         326  7843  15105            13533  1095   \n",
       "2  2024-06-07  835       357         326  7834  15096            13497  1095   \n",
       "3  2024-06-06  834       357         326  7828  15076            13433  1095   \n",
       "4  2024-06-05  833       357         326  7806  15036            13385  1092   \n",
       "\n",
       "   military auto  fuel tank  drone  naval ship  anti-aircraft warfare  \\\n",
       "0            NaN        NaN  10982          28                    836   \n",
       "1            NaN        NaN  10945          28                    834   \n",
       "2            NaN        NaN  10886          28                    833   \n",
       "3            NaN        NaN  10846          27                    831   \n",
       "4            NaN        NaN  10805          27                    830   \n",
       "\n",
       "   special equipment  mobile SRBM system greatest losses direction  \\\n",
       "0             2253.0                 NaN                       NaN   \n",
       "1             2248.0                 NaN                       NaN   \n",
       "2             2238.0                 NaN                       NaN   \n",
       "3             2230.0                 NaN                       NaN   \n",
       "4             2223.0                 NaN                       NaN   \n",
       "\n",
       "   vehicles and fuel tanks  cruise missiles  submarines  \n",
       "0                  18562.0           2277.0         1.0  \n",
       "1                  18484.0           2277.0         1.0  \n",
       "2                  18416.0           2270.0         1.0  \n",
       "3                  18360.0           2270.0         1.0  \n",
       "4                  18297.0           2270.0         1.0  "
      ]
     },
     "execution_count": 6,
     "metadata": {},
     "output_type": "execute_result"
    }
   ],
   "source": [
    "equpiment_loses_df.head()"
   ]
  },
  {
   "cell_type": "markdown",
   "id": "d7084935",
   "metadata": {},
   "source": [
    "Vad ska ta borts ifrån personal datan: \n",
    "Date, personnel* och POW bör tas bort. Den först visar bara datumen fångars värde har inte uppdaterats på jättelänge och * tas bort för att den säger ingenting. "
   ]
  },
  {
   "cell_type": "code",
   "execution_count": null,
   "id": "038e4392",
   "metadata": {
    "scrolled": false
   },
   "outputs": [
    {
     "data": {
      "text/html": [
       "<div>\n",
       "<style scoped>\n",
       "    .dataframe tbody tr th:only-of-type {\n",
       "        vertical-align: middle;\n",
       "    }\n",
       "\n",
       "    .dataframe tbody tr th {\n",
       "        vertical-align: top;\n",
       "    }\n",
       "\n",
       "    .dataframe thead th {\n",
       "        text-align: right;\n",
       "    }\n",
       "</style>\n",
       "<table border=\"1\" class=\"dataframe\">\n",
       "  <thead>\n",
       "    <tr style=\"text-align: right;\">\n",
       "      <th></th>\n",
       "      <th>date</th>\n",
       "      <th>day</th>\n",
       "      <th>aircraft</th>\n",
       "      <th>helicopter</th>\n",
       "      <th>tank</th>\n",
       "      <th>APC</th>\n",
       "      <th>field artillery</th>\n",
       "      <th>MRL</th>\n",
       "      <th>military auto</th>\n",
       "      <th>fuel tank</th>\n",
       "      <th>drone</th>\n",
       "      <th>naval ship</th>\n",
       "      <th>anti-aircraft warfare</th>\n",
       "      <th>special equipment</th>\n",
       "      <th>mobile SRBM system</th>\n",
       "      <th>greatest losses direction</th>\n",
       "      <th>vehicles and fuel tanks</th>\n",
       "      <th>cruise missiles</th>\n",
       "      <th>submarines</th>\n",
       "    </tr>\n",
       "  </thead>\n",
       "  <tbody>\n",
       "    <tr>\n",
       "      <th>0</th>\n",
       "      <td>2024-06-09</td>\n",
       "      <td>837</td>\n",
       "      <td>357</td>\n",
       "      <td>326</td>\n",
       "      <td>7869</td>\n",
       "      <td>15131</td>\n",
       "      <td>13593</td>\n",
       "      <td>1097</td>\n",
       "      <td>NaN</td>\n",
       "      <td>NaN</td>\n",
       "      <td>10982</td>\n",
       "      <td>28</td>\n",
       "      <td>836</td>\n",
       "      <td>2253.0</td>\n",
       "      <td>NaN</td>\n",
       "      <td>NaN</td>\n",
       "      <td>18562.0</td>\n",
       "      <td>2277.0</td>\n",
       "      <td>1.0</td>\n",
       "    </tr>\n",
       "    <tr>\n",
       "      <th>1</th>\n",
       "      <td>2024-06-08</td>\n",
       "      <td>836</td>\n",
       "      <td>357</td>\n",
       "      <td>326</td>\n",
       "      <td>7843</td>\n",
       "      <td>15105</td>\n",
       "      <td>13533</td>\n",
       "      <td>1095</td>\n",
       "      <td>NaN</td>\n",
       "      <td>NaN</td>\n",
       "      <td>10945</td>\n",
       "      <td>28</td>\n",
       "      <td>834</td>\n",
       "      <td>2248.0</td>\n",
       "      <td>NaN</td>\n",
       "      <td>NaN</td>\n",
       "      <td>18484.0</td>\n",
       "      <td>2277.0</td>\n",
       "      <td>1.0</td>\n",
       "    </tr>\n",
       "    <tr>\n",
       "      <th>2</th>\n",
       "      <td>2024-06-07</td>\n",
       "      <td>835</td>\n",
       "      <td>357</td>\n",
       "      <td>326</td>\n",
       "      <td>7834</td>\n",
       "      <td>15096</td>\n",
       "      <td>13497</td>\n",
       "      <td>1095</td>\n",
       "      <td>NaN</td>\n",
       "      <td>NaN</td>\n",
       "      <td>10886</td>\n",
       "      <td>28</td>\n",
       "      <td>833</td>\n",
       "      <td>2238.0</td>\n",
       "      <td>NaN</td>\n",
       "      <td>NaN</td>\n",
       "      <td>18416.0</td>\n",
       "      <td>2270.0</td>\n",
       "      <td>1.0</td>\n",
       "    </tr>\n",
       "    <tr>\n",
       "      <th>3</th>\n",
       "      <td>2024-06-06</td>\n",
       "      <td>834</td>\n",
       "      <td>357</td>\n",
       "      <td>326</td>\n",
       "      <td>7828</td>\n",
       "      <td>15076</td>\n",
       "      <td>13433</td>\n",
       "      <td>1095</td>\n",
       "      <td>NaN</td>\n",
       "      <td>NaN</td>\n",
       "      <td>10846</td>\n",
       "      <td>27</td>\n",
       "      <td>831</td>\n",
       "      <td>2230.0</td>\n",
       "      <td>NaN</td>\n",
       "      <td>NaN</td>\n",
       "      <td>18360.0</td>\n",
       "      <td>2270.0</td>\n",
       "      <td>1.0</td>\n",
       "    </tr>\n",
       "    <tr>\n",
       "      <th>4</th>\n",
       "      <td>2024-06-05</td>\n",
       "      <td>833</td>\n",
       "      <td>357</td>\n",
       "      <td>326</td>\n",
       "      <td>7806</td>\n",
       "      <td>15036</td>\n",
       "      <td>13385</td>\n",
       "      <td>1092</td>\n",
       "      <td>NaN</td>\n",
       "      <td>NaN</td>\n",
       "      <td>10805</td>\n",
       "      <td>27</td>\n",
       "      <td>830</td>\n",
       "      <td>2223.0</td>\n",
       "      <td>NaN</td>\n",
       "      <td>NaN</td>\n",
       "      <td>18297.0</td>\n",
       "      <td>2270.0</td>\n",
       "      <td>1.0</td>\n",
       "    </tr>\n",
       "  </tbody>\n",
       "</table>\n",
       "</div>"
      ],
      "text/plain": [
       "         date  day  aircraft  helicopter  tank    APC  field artillery   MRL  \\\n",
       "0  2024-06-09  837       357         326  7869  15131            13593  1097   \n",
       "1  2024-06-08  836       357         326  7843  15105            13533  1095   \n",
       "2  2024-06-07  835       357         326  7834  15096            13497  1095   \n",
       "3  2024-06-06  834       357         326  7828  15076            13433  1095   \n",
       "4  2024-06-05  833       357         326  7806  15036            13385  1092   \n",
       "\n",
       "   military auto  fuel tank  drone  naval ship  anti-aircraft warfare  \\\n",
       "0            NaN        NaN  10982          28                    836   \n",
       "1            NaN        NaN  10945          28                    834   \n",
       "2            NaN        NaN  10886          28                    833   \n",
       "3            NaN        NaN  10846          27                    831   \n",
       "4            NaN        NaN  10805          27                    830   \n",
       "\n",
       "   special equipment  mobile SRBM system greatest losses direction  \\\n",
       "0             2253.0                 NaN                       NaN   \n",
       "1             2248.0                 NaN                       NaN   \n",
       "2             2238.0                 NaN                       NaN   \n",
       "3             2230.0                 NaN                       NaN   \n",
       "4             2223.0                 NaN                       NaN   \n",
       "\n",
       "   vehicles and fuel tanks  cruise missiles  submarines  \n",
       "0                  18562.0           2277.0         1.0  \n",
       "1                  18484.0           2277.0         1.0  \n",
       "2                  18416.0           2270.0         1.0  \n",
       "3                  18360.0           2270.0         1.0  \n",
       "4                  18297.0           2270.0         1.0  "
      ]
     },
     "execution_count": 7,
     "metadata": {},
     "output_type": "execute_result"
    }
   ],
   "source": [
    "equpiment_loses_df.head()"
   ]
  },
  {
   "cell_type": "code",
   "execution_count": null,
   "id": "6fa41671",
   "metadata": {},
   "outputs": [
    {
     "data": {
      "text/plain": [
       "(836, 5)"
      ]
     },
     "execution_count": 8,
     "metadata": {},
     "output_type": "execute_result"
    }
   ],
   "source": [
    "personal_df.shape"
   ]
  },
  {
   "cell_type": "code",
   "execution_count": null,
   "id": "2a9eca06",
   "metadata": {},
   "outputs": [
    {
     "data": {
      "text/plain": [
       "(836, 19)"
      ]
     },
     "execution_count": 9,
     "metadata": {},
     "output_type": "execute_result"
    }
   ],
   "source": [
    "equpiment_loses_df.shape"
   ]
  },
  {
   "cell_type": "code",
   "execution_count": null,
   "id": "449e68bc",
   "metadata": {},
   "outputs": [
    {
     "data": {
      "text/plain": [
       "date          836\n",
       "day           836\n",
       "personnel     829\n",
       "personnel*      2\n",
       "POW            20\n",
       "dtype: int64"
      ]
     },
     "execution_count": 10,
     "metadata": {},
     "output_type": "execute_result"
    }
   ],
   "source": [
    "personal_df.nunique()"
   ]
  },
  {
   "cell_type": "code",
   "execution_count": null,
   "id": "2d68ed6b",
   "metadata": {},
   "outputs": [
    {
     "data": {
      "text/plain": [
       "date                       7\n",
       "day                        7\n",
       "aircraft                   3\n",
       "helicopter                 2\n",
       "tank                       3\n",
       "APC                        4\n",
       "field artillery            4\n",
       "MRL                        3\n",
       "drone                      5\n",
       "naval ship                 2\n",
       "submarines                 1\n",
       "anti-aircraft warfare      1\n",
       "special equipment          2\n",
       "vehicles and fuel tanks    3\n",
       "cruise missiles            5\n",
       "dtype: int64"
      ]
     },
     "execution_count": 11,
     "metadata": {},
     "output_type": "execute_result"
    }
   ],
   "source": [
    "equpiment_loses_correction_df.nunique()"
   ]
  },
  {
   "cell_type": "code",
   "execution_count": null,
   "id": "c0e87784",
   "metadata": {},
   "outputs": [
    {
     "data": {
      "text/plain": [
       "date           object\n",
       "day             int64\n",
       "personnel       int64\n",
       "personnel*     object\n",
       "POW           float64\n",
       "dtype: object"
      ]
     },
     "execution_count": 12,
     "metadata": {},
     "output_type": "execute_result"
    }
   ],
   "source": [
    "personal_df.dtypes"
   ]
  },
  {
   "cell_type": "code",
   "execution_count": null,
   "id": "ff6cd8e4",
   "metadata": {},
   "outputs": [
    {
     "data": {
      "text/plain": [
       "date                          object\n",
       "day                            int64\n",
       "aircraft                       int64\n",
       "helicopter                     int64\n",
       "tank                           int64\n",
       "APC                            int64\n",
       "field artillery                int64\n",
       "MRL                            int64\n",
       "military auto                float64\n",
       "fuel tank                    float64\n",
       "drone                          int64\n",
       "naval ship                     int64\n",
       "anti-aircraft warfare          int64\n",
       "special equipment            float64\n",
       "mobile SRBM system           float64\n",
       "greatest losses direction     object\n",
       "vehicles and fuel tanks      float64\n",
       "cruise missiles              float64\n",
       "submarines                   float64\n",
       "dtype: object"
      ]
     },
     "execution_count": 13,
     "metadata": {},
     "output_type": "execute_result"
    }
   ],
   "source": [
    "equpiment_loses_df.dtypes"
   ]
  },
  {
   "cell_type": "code",
   "execution_count": null,
   "id": "d8d42154",
   "metadata": {},
   "outputs": [
    {
     "name": "stdout",
     "output_type": "stream",
     "text": [
      "about    830\n",
      "more       6\n",
      "Name: personnel*, dtype: int64\n"
     ]
    }
   ],
   "source": [
    "attribute_counts = personal_df['personnel*'].value_counts()\n",
    "print (attribute_counts)"
   ]
  },
  {
   "cell_type": "code",
   "execution_count": null,
   "id": "31cfff86",
   "metadata": {},
   "outputs": [
    {
     "name": "stdout",
     "output_type": "stream",
     "text": [
      "774 True and 3406 False\n"
     ]
    }
   ],
   "source": [
    "null_values =  personal_df.isnull()\n",
    "null_true = null_values.sum().sum()\n",
    "null_false = null_values.size - null_true\n",
    "list_of_null = f\"{null_true} True and {null_false} False\"\n",
    "print (list_of_null)"
   ]
  },
  {
   "cell_type": "code",
   "execution_count": null,
   "id": "a1e1002f",
   "metadata": {},
   "outputs": [
    {
     "data": {
      "image/png": "[encoded data removed]",
      "text/plain": [
       "<Figure size 640x480 with 1 Axes>"
      ]
     },
     "metadata": {},
     "output_type": "display_data"
    }
   ],
   "source": [
    "lineplot(x=\"day\", y= \"personnel\", data = personal_df)\n",
    "plt.show()"
   ]
  },
  {
   "cell_type": "code",
   "execution_count": null,
   "id": "9a1f90e6",
   "metadata": {},
   "outputs": [
    {
     "data": {
      "image/png": "[encoded data removed]",
      "text/plain": [
       "<Figure size 640x480 with 1 Axes>"
      ]
     },
     "metadata": {},
     "output_type": "display_data"
    },
    {
     "data": {
      "image/png": "[encoded data removed]",
      "text/plain": [
       "<Figure size 640x480 with 1 Axes>"
      ]
     },
     "metadata": {},
     "output_type": "display_data"
    }
   ],
   "source": [
    "lineplot(x=\"day\", y= \"tank\", data = equpiment_loses_df)\n",
    "plt.show()\n",
    "\n",
    "lineplot(x=\"day\", y= \"APC\", data = equpiment_loses_df)\n",
    "plt.show()"
   ]
  },
  {
   "cell_type": "markdown",
   "id": "9e1440ee",
   "metadata": {},
   "source": [
    "Måsta ta bort vissa av kolumerna som finns. De tillför inget till arbetet. "
   ]
  },
  {
   "cell_type": "markdown",
   "id": "0b8709c9",
   "metadata": {},
   "source": [
    "# Remove columns that are not needed"
   ]
  },
  {
   "cell_type": "code",
   "execution_count": null,
   "id": "a277324a",
   "metadata": {},
   "outputs": [
    {
     "data": {
      "text/plain": [
       "date                         836\n",
       "day                          836\n",
       "aircraft                     178\n",
       "helicopter                   168\n",
       "tank                         816\n",
       "APC                          828\n",
       "field artillery              815\n",
       "MRL                          437\n",
       "military auto                 64\n",
       "fuel tank                      6\n",
       "drone                        758\n",
       "naval ship                    24\n",
       "anti-aircraft warfare        437\n",
       "special equipment            572\n",
       "mobile SRBM system             2\n",
       "greatest losses direction     64\n",
       "vehicles and fuel tanks      765\n",
       "cruise missiles              278\n",
       "submarines                     1\n",
       "dtype: int64"
      ]
     },
     "execution_count": 18,
     "metadata": {},
     "output_type": "execute_result"
    }
   ],
   "source": [
    "equpiment_loses_df.nunique()"
   ]
  },
  {
   "cell_type": "code",
   "execution_count": null,
   "id": "30f88f63",
   "metadata": {},
   "outputs": [],
   "source": [
    "personal_df.drop('personnel*', axis=1, inplace=True)"
   ]
  },
  {
   "cell_type": "code",
   "execution_count": null,
   "id": "a7b8dc1f",
   "metadata": {},
   "outputs": [
    {
     "data": {
      "text/html": [
       "<div>\n",
       "<style scoped>\n",
       "    .dataframe tbody tr th:only-of-type {\n",
       "        vertical-align: middle;\n",
       "    }\n",
       "\n",
       "    .dataframe tbody tr th {\n",
       "        vertical-align: top;\n",
       "    }\n",
       "\n",
       "    .dataframe thead th {\n",
       "        text-align: right;\n",
       "    }\n",
       "</style>\n",
       "<table border=\"1\" class=\"dataframe\">\n",
       "  <thead>\n",
       "    <tr style=\"text-align: right;\">\n",
       "      <th></th>\n",
       "      <th>date</th>\n",
       "      <th>day</th>\n",
       "      <th>personnel</th>\n",
       "      <th>POW</th>\n",
       "    </tr>\n",
       "  </thead>\n",
       "  <tbody>\n",
       "    <tr>\n",
       "      <th>0</th>\n",
       "      <td>2024-06-09</td>\n",
       "      <td>837</td>\n",
       "      <td>518560</td>\n",
       "      <td>NaN</td>\n",
       "    </tr>\n",
       "    <tr>\n",
       "      <th>1</th>\n",
       "      <td>2024-06-08</td>\n",
       "      <td>836</td>\n",
       "      <td>517290</td>\n",
       "      <td>NaN</td>\n",
       "    </tr>\n",
       "    <tr>\n",
       "      <th>2</th>\n",
       "      <td>2024-06-07</td>\n",
       "      <td>835</td>\n",
       "      <td>516080</td>\n",
       "      <td>NaN</td>\n",
       "    </tr>\n",
       "    <tr>\n",
       "      <th>3</th>\n",
       "      <td>2024-06-06</td>\n",
       "      <td>834</td>\n",
       "      <td>515000</td>\n",
       "      <td>NaN</td>\n",
       "    </tr>\n",
       "    <tr>\n",
       "      <th>4</th>\n",
       "      <td>2024-06-05</td>\n",
       "      <td>833</td>\n",
       "      <td>513700</td>\n",
       "      <td>NaN</td>\n",
       "    </tr>\n",
       "  </tbody>\n",
       "</table>\n",
       "</div>"
      ],
      "text/plain": [
       "         date  day  personnel  POW\n",
       "0  2024-06-09  837     518560  NaN\n",
       "1  2024-06-08  836     517290  NaN\n",
       "2  2024-06-07  835     516080  NaN\n",
       "3  2024-06-06  834     515000  NaN\n",
       "4  2024-06-05  833     513700  NaN"
      ]
     },
     "execution_count": 20,
     "metadata": {},
     "output_type": "execute_result"
    }
   ],
   "source": [
    "personal_df.head()"
   ]
  },
  {
   "cell_type": "code",
   "execution_count": null,
   "id": "1c16dfe0",
   "metadata": {},
   "outputs": [],
   "source": [
    "personal_df.drop('POW', axis=1, inplace=True)"
   ]
  },
  {
   "cell_type": "code",
   "execution_count": null,
   "id": "e15eafe8",
   "metadata": {},
   "outputs": [],
   "source": [
    "equpiment_loses_df.drop('greatest losses direction', axis=1, inplace=True)"
   ]
  },
  {
   "cell_type": "code",
   "execution_count": null,
   "id": "1784da1e",
   "metadata": {},
   "outputs": [
    {
     "data": {
      "text/plain": [
       "date                        object\n",
       "day                          int64\n",
       "aircraft                     int64\n",
       "helicopter                   int64\n",
       "tank                         int64\n",
       "APC                          int64\n",
       "field artillery              int64\n",
       "MRL                          int64\n",
       "military auto              float64\n",
       "fuel tank                  float64\n",
       "drone                        int64\n",
       "naval ship                   int64\n",
       "anti-aircraft warfare        int64\n",
       "special equipment          float64\n",
       "mobile SRBM system         float64\n",
       "vehicles and fuel tanks    float64\n",
       "cruise missiles            float64\n",
       "submarines                 float64\n",
       "dtype: object"
      ]
     },
     "execution_count": 23,
     "metadata": {},
     "output_type": "execute_result"
    }
   ],
   "source": [
    "equpiment_loses_df.dtypes"
   ]
  },
  {
   "cell_type": "code",
   "execution_count": null,
   "id": "d6a7271a",
   "metadata": {},
   "outputs": [],
   "source": [
    "equpiment_loses_df[\"submarines\"].fillna(0, inplace=True)\n",
    "equpiment_loses_df[\"submarines\"].replace([np.inf, -np.inf], 0, inplace=True)"
   ]
  },
  {
   "cell_type": "code",
   "execution_count": null,
   "id": "968b323a",
   "metadata": {},
   "outputs": [],
   "source": [
    "equpiment_loses_df[\"submarines\"]= equpiment_loses_df[\"submarines\"].astype('int64')"
   ]
  },
  {
   "cell_type": "code",
   "execution_count": null,
   "id": "dae1cc83",
   "metadata": {},
   "outputs": [],
   "source": [
    "equpiment_loses_df.drop('military auto', axis=1, inplace=True)\n",
    "equpiment_loses_df.drop('fuel tank', axis=1, inplace=True)\n",
    "equpiment_loses_df.drop('mobile SRBM system', axis=1, inplace=True)"
   ]
  },
  {
   "cell_type": "code",
   "execution_count": null,
   "id": "2b40232f",
   "metadata": {},
   "outputs": [],
   "source": [
    "equpiment_loses_df[\"vehicles and fuel tanks\"].fillna(0, inplace=True)\n",
    "equpiment_loses_df[\"vehicles and fuel tanks\"].replace([np.inf, -np.inf], 0, inplace=True)"
   ]
  },
  {
   "cell_type": "code",
   "execution_count": null,
   "id": "30cc51f3",
   "metadata": {},
   "outputs": [],
   "source": [
    "equpiment_loses_df[\"vehicles and fuel tanks\"]= equpiment_loses_df[\"vehicles and fuel tanks\"].astype('int64')"
   ]
  },
  {
   "cell_type": "code",
   "execution_count": null,
   "id": "773e130f",
   "metadata": {},
   "outputs": [],
   "source": [
    "equpiment_loses_df[\"cruise missiles\"].fillna(0, inplace=True)\n",
    "equpiment_loses_df[\"cruise missiles\"].replace([np.inf, -np.inf], 0, inplace=True)"
   ]
  },
  {
   "cell_type": "code",
   "execution_count": null,
   "id": "bb905e2d",
   "metadata": {},
   "outputs": [],
   "source": [
    "equpiment_loses_df[\"cruise missiles\"]= equpiment_loses_df[\"cruise missiles\"].astype('int64')"
   ]
  },
  {
   "cell_type": "code",
   "execution_count": null,
   "id": "0a7d9b62",
   "metadata": {},
   "outputs": [],
   "source": [
    "equpiment_loses_df[\"special equipment\"].fillna(0, inplace=True)\n",
    "equpiment_loses_df[\"special equipment\"].replace([np.inf, -np.inf], 0, inplace=True)\n",
    "equpiment_loses_df[\"special equipment\"]= equpiment_loses_df[\"special equipment\"].astype('int64')"
   ]
  },
  {
   "cell_type": "code",
   "execution_count": null,
   "id": "3c32feb9",
   "metadata": {},
   "outputs": [
    {
     "data": {
      "text/html": [
       "<div>\n",
       "<style scoped>\n",
       "    .dataframe tbody tr th:only-of-type {\n",
       "        vertical-align: middle;\n",
       "    }\n",
       "\n",
       "    .dataframe tbody tr th {\n",
       "        vertical-align: top;\n",
       "    }\n",
       "\n",
       "    .dataframe thead th {\n",
       "        text-align: right;\n",
       "    }\n",
       "</style>\n",
       "<table border=\"1\" class=\"dataframe\">\n",
       "  <thead>\n",
       "    <tr style=\"text-align: right;\">\n",
       "      <th></th>\n",
       "      <th>date</th>\n",
       "      <th>combat_day</th>\n",
       "      <th>aircraft</th>\n",
       "      <th>helicopter</th>\n",
       "      <th>tank</th>\n",
       "      <th>APC</th>\n",
       "      <th>field artillery</th>\n",
       "      <th>MRL</th>\n",
       "      <th>drone</th>\n",
       "      <th>naval ship</th>\n",
       "      <th>anti-aircraft warfare</th>\n",
       "      <th>special equipment</th>\n",
       "      <th>vehicles and fuel tanks</th>\n",
       "      <th>cruise missiles</th>\n",
       "      <th>submarines</th>\n",
       "    </tr>\n",
       "  </thead>\n",
       "  <tbody>\n",
       "    <tr>\n",
       "      <th>0</th>\n",
       "      <td>2024-06-09</td>\n",
       "      <td>837</td>\n",
       "      <td>357</td>\n",
       "      <td>326</td>\n",
       "      <td>7869</td>\n",
       "      <td>15131</td>\n",
       "      <td>13593</td>\n",
       "      <td>1097</td>\n",
       "      <td>10982</td>\n",
       "      <td>28</td>\n",
       "      <td>836</td>\n",
       "      <td>2253</td>\n",
       "      <td>18562</td>\n",
       "      <td>2277</td>\n",
       "      <td>1</td>\n",
       "    </tr>\n",
       "    <tr>\n",
       "      <th>1</th>\n",
       "      <td>2024-06-08</td>\n",
       "      <td>836</td>\n",
       "      <td>357</td>\n",
       "      <td>326</td>\n",
       "      <td>7843</td>\n",
       "      <td>15105</td>\n",
       "      <td>13533</td>\n",
       "      <td>1095</td>\n",
       "      <td>10945</td>\n",
       "      <td>28</td>\n",
       "      <td>834</td>\n",
       "      <td>2248</td>\n",
       "      <td>18484</td>\n",
       "      <td>2277</td>\n",
       "      <td>1</td>\n",
       "    </tr>\n",
       "    <tr>\n",
       "      <th>2</th>\n",
       "      <td>2024-06-07</td>\n",
       "      <td>835</td>\n",
       "      <td>357</td>\n",
       "      <td>326</td>\n",
       "      <td>7834</td>\n",
       "      <td>15096</td>\n",
       "      <td>13497</td>\n",
       "      <td>1095</td>\n",
       "      <td>10886</td>\n",
       "      <td>28</td>\n",
       "      <td>833</td>\n",
       "      <td>2238</td>\n",
       "      <td>18416</td>\n",
       "      <td>2270</td>\n",
       "      <td>1</td>\n",
       "    </tr>\n",
       "    <tr>\n",
       "      <th>3</th>\n",
       "      <td>2024-06-06</td>\n",
       "      <td>834</td>\n",
       "      <td>357</td>\n",
       "      <td>326</td>\n",
       "      <td>7828</td>\n",
       "      <td>15076</td>\n",
       "      <td>13433</td>\n",
       "      <td>1095</td>\n",
       "      <td>10846</td>\n",
       "      <td>27</td>\n",
       "      <td>831</td>\n",
       "      <td>2230</td>\n",
       "      <td>18360</td>\n",
       "      <td>2270</td>\n",
       "      <td>1</td>\n",
       "    </tr>\n",
       "    <tr>\n",
       "      <th>4</th>\n",
       "      <td>2024-06-05</td>\n",
       "      <td>833</td>\n",
       "      <td>357</td>\n",
       "      <td>326</td>\n",
       "      <td>7806</td>\n",
       "      <td>15036</td>\n",
       "      <td>13385</td>\n",
       "      <td>1092</td>\n",
       "      <td>10805</td>\n",
       "      <td>27</td>\n",
       "      <td>830</td>\n",
       "      <td>2223</td>\n",
       "      <td>18297</td>\n",
       "      <td>2270</td>\n",
       "      <td>1</td>\n",
       "    </tr>\n",
       "    <tr>\n",
       "      <th>...</th>\n",
       "      <td>...</td>\n",
       "      <td>...</td>\n",
       "      <td>...</td>\n",
       "      <td>...</td>\n",
       "      <td>...</td>\n",
       "      <td>...</td>\n",
       "      <td>...</td>\n",
       "      <td>...</td>\n",
       "      <td>...</td>\n",
       "      <td>...</td>\n",
       "      <td>...</td>\n",
       "      <td>...</td>\n",
       "      <td>...</td>\n",
       "      <td>...</td>\n",
       "      <td>...</td>\n",
       "    </tr>\n",
       "    <tr>\n",
       "      <th>831</th>\n",
       "      <td>2022-03-01</td>\n",
       "      <td>6</td>\n",
       "      <td>29</td>\n",
       "      <td>29</td>\n",
       "      <td>198</td>\n",
       "      <td>846</td>\n",
       "      <td>77</td>\n",
       "      <td>24</td>\n",
       "      <td>3</td>\n",
       "      <td>2</td>\n",
       "      <td>7</td>\n",
       "      <td>0</td>\n",
       "      <td>0</td>\n",
       "      <td>0</td>\n",
       "      <td>0</td>\n",
       "    </tr>\n",
       "    <tr>\n",
       "      <th>832</th>\n",
       "      <td>2022-02-28</td>\n",
       "      <td>5</td>\n",
       "      <td>29</td>\n",
       "      <td>29</td>\n",
       "      <td>150</td>\n",
       "      <td>816</td>\n",
       "      <td>74</td>\n",
       "      <td>21</td>\n",
       "      <td>3</td>\n",
       "      <td>2</td>\n",
       "      <td>5</td>\n",
       "      <td>0</td>\n",
       "      <td>0</td>\n",
       "      <td>0</td>\n",
       "      <td>0</td>\n",
       "    </tr>\n",
       "    <tr>\n",
       "      <th>833</th>\n",
       "      <td>2022-02-27</td>\n",
       "      <td>4</td>\n",
       "      <td>27</td>\n",
       "      <td>26</td>\n",
       "      <td>150</td>\n",
       "      <td>706</td>\n",
       "      <td>50</td>\n",
       "      <td>4</td>\n",
       "      <td>2</td>\n",
       "      <td>2</td>\n",
       "      <td>0</td>\n",
       "      <td>0</td>\n",
       "      <td>0</td>\n",
       "      <td>0</td>\n",
       "      <td>0</td>\n",
       "    </tr>\n",
       "    <tr>\n",
       "      <th>834</th>\n",
       "      <td>2022-02-26</td>\n",
       "      <td>3</td>\n",
       "      <td>27</td>\n",
       "      <td>26</td>\n",
       "      <td>146</td>\n",
       "      <td>706</td>\n",
       "      <td>49</td>\n",
       "      <td>4</td>\n",
       "      <td>2</td>\n",
       "      <td>2</td>\n",
       "      <td>0</td>\n",
       "      <td>0</td>\n",
       "      <td>0</td>\n",
       "      <td>0</td>\n",
       "      <td>0</td>\n",
       "    </tr>\n",
       "    <tr>\n",
       "      <th>835</th>\n",
       "      <td>2022-02-25</td>\n",
       "      <td>2</td>\n",
       "      <td>10</td>\n",
       "      <td>7</td>\n",
       "      <td>80</td>\n",
       "      <td>516</td>\n",
       "      <td>49</td>\n",
       "      <td>4</td>\n",
       "      <td>0</td>\n",
       "      <td>2</td>\n",
       "      <td>0</td>\n",
       "      <td>0</td>\n",
       "      <td>0</td>\n",
       "      <td>0</td>\n",
       "      <td>0</td>\n",
       "    </tr>\n",
       "  </tbody>\n",
       "</table>\n",
       "<p>836 rows × 15 columns</p>\n",
       "</div>"
      ],
      "text/plain": [
       "           date  combat_day  aircraft  helicopter  tank    APC  \\\n",
       "0    2024-06-09         837       357         326  7869  15131   \n",
       "1    2024-06-08         836       357         326  7843  15105   \n",
       "2    2024-06-07         835       357         326  7834  15096   \n",
       "3    2024-06-06         834       357         326  7828  15076   \n",
       "4    2024-06-05         833       357         326  7806  15036   \n",
       "..          ...         ...       ...         ...   ...    ...   \n",
       "831  2022-03-01           6        29          29   198    846   \n",
       "832  2022-02-28           5        29          29   150    816   \n",
       "833  2022-02-27           4        27          26   150    706   \n",
       "834  2022-02-26           3        27          26   146    706   \n",
       "835  2022-02-25           2        10           7    80    516   \n",
       "\n",
       "     field artillery   MRL  drone  naval ship  anti-aircraft warfare  \\\n",
       "0              13593  1097  10982          28                    836   \n",
       "1              13533  1095  10945          28                    834   \n",
       "2              13497  1095  10886          28                    833   \n",
       "3              13433  1095  10846          27                    831   \n",
       "4              13385  1092  10805          27                    830   \n",
       "..               ...   ...    ...         ...                    ...   \n",
       "831               77    24      3           2                      7   \n",
       "832               74    21      3           2                      5   \n",
       "833               50     4      2           2                      0   \n",
       "834               49     4      2           2                      0   \n",
       "835               49     4      0           2                      0   \n",
       "\n",
       "     special equipment  vehicles and fuel tanks  cruise missiles  submarines  \n",
       "0                 2253                    18562             2277           1  \n",
       "1                 2248                    18484             2277           1  \n",
       "2                 2238                    18416             2270           1  \n",
       "3                 2230                    18360             2270           1  \n",
       "4                 2223                    18297             2270           1  \n",
       "..                 ...                      ...              ...         ...  \n",
       "831                  0                        0                0           0  \n",
       "832                  0                        0                0           0  \n",
       "833                  0                        0                0           0  \n",
       "834                  0                        0                0           0  \n",
       "835                  0                        0                0           0  \n",
       "\n",
       "[836 rows x 15 columns]"
      ]
     },
     "execution_count": 32,
     "metadata": {},
     "output_type": "execute_result"
    }
   ],
   "source": [
    "equpiment_loses_df.rename(columns={\"day\": \"combat_day\"})"
   ]
  },
  {
   "cell_type": "code",
   "execution_count": null,
   "id": "2f43f69a",
   "metadata": {},
   "outputs": [],
   "source": [
    "equpiment_loses_df['date'] = pd.to_datetime(equpiment_loses_df['date'])\n",
    "equpiment_loses_df['year'] = equpiment_loses_df['date'].dt.year\n",
    "equpiment_loses_df['month'] = equpiment_loses_df['date'].dt.month\n",
    "equpiment_loses_df['combat_date'] = equpiment_loses_df['date'].dt.day"
   ]
  },
  {
   "cell_type": "code",
   "execution_count": null,
   "id": "0c2f693f",
   "metadata": {},
   "outputs": [],
   "source": [
    "equpiment_loses_df.drop(columns=['date'], inplace=True)\n",
    "equpiment_loses_df.rename(columns={'day': 'combat_day'}, inplace=True)\n",
    "equpiment_loses_df.rename(columns={'combat_date': 'day'}, inplace=True)"
   ]
  },
  {
   "cell_type": "code",
   "execution_count": null,
   "id": "47d36fc8",
   "metadata": {},
   "outputs": [],
   "source": [
    "personal_df['date'] = pd.to_datetime(personal_df['date'])"
   ]
  },
  {
   "cell_type": "code",
   "execution_count": null,
   "id": "01181e4f",
   "metadata": {},
   "outputs": [],
   "source": [
    "personal_df['year'] = personal_df['date'].dt.year\n",
    "personal_df['month'] = personal_df['date'].dt.month\n",
    "personal_df['combat_date'] = personal_df['date'].dt.day"
   ]
  },
  {
   "cell_type": "code",
   "execution_count": null,
   "id": "d34d337c",
   "metadata": {},
   "outputs": [],
   "source": [
    "personal_df.drop(columns=['date'], inplace=True)"
   ]
  },
  {
   "cell_type": "code",
   "execution_count": null,
   "id": "cde05549",
   "metadata": {},
   "outputs": [],
   "source": [
    "personal_df.rename(columns={'day': 'combat_day'}, inplace=True)"
   ]
  },
  {
   "cell_type": "code",
   "execution_count": null,
   "id": "899ddc91",
   "metadata": {},
   "outputs": [],
   "source": [
    "personal_df.rename(columns={'combat_date': 'day'}, inplace=True)"
   ]
  },
  {
   "cell_type": "code",
   "execution_count": null,
   "id": "5957bfca",
   "metadata": {},
   "outputs": [],
   "source": [
    "merged_war_df = pd.merge(personal_df,equpiment_loses_df, on =['combat_day',\"year\",\"day\",\"month\"])\n"
   ]
  },
  {
   "cell_type": "code",
   "execution_count": null,
   "id": "41760c3e",
   "metadata": {
    "scrolled": true
   },
   "outputs": [
    {
     "data": {
      "text/html": [
       "<div>\n",
       "<style scoped>\n",
       "    .dataframe tbody tr th:only-of-type {\n",
       "        vertical-align: middle;\n",
       "    }\n",
       "\n",
       "    .dataframe tbody tr th {\n",
       "        vertical-align: top;\n",
       "    }\n",
       "\n",
       "    .dataframe thead th {\n",
       "        text-align: right;\n",
       "    }\n",
       "</style>\n",
       "<table border=\"1\" class=\"dataframe\">\n",
       "  <thead>\n",
       "    <tr style=\"text-align: right;\">\n",
       "      <th></th>\n",
       "      <th>combat_day</th>\n",
       "      <th>personnel</th>\n",
       "      <th>year</th>\n",
       "      <th>month</th>\n",
       "      <th>day</th>\n",
       "      <th>aircraft</th>\n",
       "      <th>helicopter</th>\n",
       "      <th>tank</th>\n",
       "      <th>APC</th>\n",
       "      <th>field artillery</th>\n",
       "      <th>MRL</th>\n",
       "      <th>drone</th>\n",
       "      <th>naval ship</th>\n",
       "      <th>anti-aircraft warfare</th>\n",
       "      <th>special equipment</th>\n",
       "      <th>vehicles and fuel tanks</th>\n",
       "      <th>cruise missiles</th>\n",
       "      <th>submarines</th>\n",
       "    </tr>\n",
       "  </thead>\n",
       "  <tbody>\n",
       "    <tr>\n",
       "      <th>0</th>\n",
       "      <td>837</td>\n",
       "      <td>518560</td>\n",
       "      <td>2024</td>\n",
       "      <td>6</td>\n",
       "      <td>9</td>\n",
       "      <td>357</td>\n",
       "      <td>326</td>\n",
       "      <td>7869</td>\n",
       "      <td>15131</td>\n",
       "      <td>13593</td>\n",
       "      <td>1097</td>\n",
       "      <td>10982</td>\n",
       "      <td>28</td>\n",
       "      <td>836</td>\n",
       "      <td>2253</td>\n",
       "      <td>18562</td>\n",
       "      <td>2277</td>\n",
       "      <td>1</td>\n",
       "    </tr>\n",
       "    <tr>\n",
       "      <th>1</th>\n",
       "      <td>836</td>\n",
       "      <td>517290</td>\n",
       "      <td>2024</td>\n",
       "      <td>6</td>\n",
       "      <td>8</td>\n",
       "      <td>357</td>\n",
       "      <td>326</td>\n",
       "      <td>7843</td>\n",
       "      <td>15105</td>\n",
       "      <td>13533</td>\n",
       "      <td>1095</td>\n",
       "      <td>10945</td>\n",
       "      <td>28</td>\n",
       "      <td>834</td>\n",
       "      <td>2248</td>\n",
       "      <td>18484</td>\n",
       "      <td>2277</td>\n",
       "      <td>1</td>\n",
       "    </tr>\n",
       "    <tr>\n",
       "      <th>2</th>\n",
       "      <td>835</td>\n",
       "      <td>516080</td>\n",
       "      <td>2024</td>\n",
       "      <td>6</td>\n",
       "      <td>7</td>\n",
       "      <td>357</td>\n",
       "      <td>326</td>\n",
       "      <td>7834</td>\n",
       "      <td>15096</td>\n",
       "      <td>13497</td>\n",
       "      <td>1095</td>\n",
       "      <td>10886</td>\n",
       "      <td>28</td>\n",
       "      <td>833</td>\n",
       "      <td>2238</td>\n",
       "      <td>18416</td>\n",
       "      <td>2270</td>\n",
       "      <td>1</td>\n",
       "    </tr>\n",
       "    <tr>\n",
       "      <th>3</th>\n",
       "      <td>834</td>\n",
       "      <td>515000</td>\n",
       "      <td>2024</td>\n",
       "      <td>6</td>\n",
       "      <td>6</td>\n",
       "      <td>357</td>\n",
       "      <td>326</td>\n",
       "      <td>7828</td>\n",
       "      <td>15076</td>\n",
       "      <td>13433</td>\n",
       "      <td>1095</td>\n",
       "      <td>10846</td>\n",
       "      <td>27</td>\n",
       "      <td>831</td>\n",
       "      <td>2230</td>\n",
       "      <td>18360</td>\n",
       "      <td>2270</td>\n",
       "      <td>1</td>\n",
       "    </tr>\n",
       "    <tr>\n",
       "      <th>4</th>\n",
       "      <td>833</td>\n",
       "      <td>513700</td>\n",
       "      <td>2024</td>\n",
       "      <td>6</td>\n",
       "      <td>5</td>\n",
       "      <td>357</td>\n",
       "      <td>326</td>\n",
       "      <td>7806</td>\n",
       "      <td>15036</td>\n",
       "      <td>13385</td>\n",
       "      <td>1092</td>\n",
       "      <td>10805</td>\n",
       "      <td>27</td>\n",
       "      <td>830</td>\n",
       "      <td>2223</td>\n",
       "      <td>18297</td>\n",
       "      <td>2270</td>\n",
       "      <td>1</td>\n",
       "    </tr>\n",
       "  </tbody>\n",
       "</table>\n",
       "</div>"
      ],
      "text/plain": [
       "   combat_day  personnel  year  month  day  aircraft  helicopter  tank    APC  \\\n",
       "0         837     518560  2024      6    9       357         326  7869  15131   \n",
       "1         836     517290  2024      6    8       357         326  7843  15105   \n",
       "2         835     516080  2024      6    7       357         326  7834  15096   \n",
       "3         834     515000  2024      6    6       357         326  7828  15076   \n",
       "4         833     513700  2024      6    5       357         326  7806  15036   \n",
       "\n",
       "   field artillery   MRL  drone  naval ship  anti-aircraft warfare  \\\n",
       "0            13593  1097  10982          28                    836   \n",
       "1            13533  1095  10945          28                    834   \n",
       "2            13497  1095  10886          28                    833   \n",
       "3            13433  1095  10846          27                    831   \n",
       "4            13385  1092  10805          27                    830   \n",
       "\n",
       "   special equipment  vehicles and fuel tanks  cruise missiles  submarines  \n",
       "0               2253                    18562             2277           1  \n",
       "1               2248                    18484             2277           1  \n",
       "2               2238                    18416             2270           1  \n",
       "3               2230                    18360             2270           1  \n",
       "4               2223                    18297             2270           1  "
      ]
     },
     "execution_count": 41,
     "metadata": {},
     "output_type": "execute_result"
    }
   ],
   "source": [
    "merged_war_df.head()"
   ]
  },
  {
   "cell_type": "code",
   "execution_count": null,
   "id": "3d1c300b",
   "metadata": {},
   "outputs": [
    {
     "data": {
      "text/plain": [
       "Index(['combat_day', 'personnel', 'year', 'month', 'day', 'aircraft',\n",
       "       'helicopter', 'tank', 'APC', 'field artillery', 'MRL', 'drone',\n",
       "       'naval ship', 'anti-aircraft warfare', 'special equipment',\n",
       "       'vehicles and fuel tanks', 'cruise missiles', 'submarines'],\n",
       "      dtype='object')"
      ]
     },
     "execution_count": 42,
     "metadata": {},
     "output_type": "execute_result"
    }
   ],
   "source": [
    "merged_war_df.columns"
   ]
  },
  {
   "cell_type": "code",
   "execution_count": null,
   "id": "84d3b675",
   "metadata": {},
   "outputs": [
    {
     "data": {
      "text/plain": [
       "combat_day                 836\n",
       "personnel                  829\n",
       "year                         3\n",
       "month                       12\n",
       "day                         31\n",
       "aircraft                   178\n",
       "helicopter                 168\n",
       "tank                       816\n",
       "APC                        828\n",
       "field artillery            815\n",
       "MRL                        437\n",
       "drone                      758\n",
       "naval ship                  24\n",
       "anti-aircraft warfare      437\n",
       "special equipment          573\n",
       "vehicles and fuel tanks    766\n",
       "cruise missiles            279\n",
       "submarines                   2\n",
       "dtype: int64"
      ]
     },
     "execution_count": 43,
     "metadata": {},
     "output_type": "execute_result"
    }
   ],
   "source": [
    "merged_war_df.nunique()"
   ]
  },
  {
   "cell_type": "code",
   "execution_count": null,
   "id": "6cdbec0f",
   "metadata": {},
   "outputs": [
    {
     "data": {
      "image/png": "[encoded data removed]",
      "text/plain": [
       "<Figure size 1200x600 with 9 Axes>"
      ]
     },
     "metadata": {},
     "output_type": "display_data"
    }
   ],
   "source": [
    "merged_war_df[['personnel','tank','APC','field artillery', 'aircraft','special equipment', 'anti-aircraft warfare' ]].hist(bins= 15,\n",
    "figsize=(12,6),alpha = 0.6, grid=False, rwidth= 0.8)\n",
    "plt.show()"
   ]
  },
  {
   "cell_type": "code",
   "execution_count": null,
   "id": "ad33c036",
   "metadata": {},
   "outputs": [
    {
     "data": {
      "text/plain": [
       "<Axes: xlabel='APC', ylabel='Count'>"
      ]
     },
     "execution_count": 45,
     "metadata": {},
     "output_type": "execute_result"
    },
    {
     "data": {
      "image/png": "[encoded data removed]",
      "text/plain": [
       "<Figure size 640x480 with 1 Axes>"
      ]
     },
     "metadata": {},
     "output_type": "display_data"
    }
   ],
   "source": [
    "sns.histplot(data=merged_war_df, x='APC', kde=True)\n"
   ]
  },
  {
   "cell_type": "code",
   "execution_count": null,
   "id": "db16aae5",
   "metadata": {
    "scrolled": false
   },
   "outputs": [
    {
     "data": {
      "text/plain": [
       "<Axes: xlabel='personnel', ylabel='Count'>"
      ]
     },
     "execution_count": 46,
     "metadata": {},
     "output_type": "execute_result"
    },
    {
     "data": {
      "image/png": "[encoded data removed]",
      "text/plain": [
       "<Figure size 640x480 with 1 Axes>"
      ]
     },
     "metadata": {},
     "output_type": "display_data"
    }
   ],
   "source": [
    "sns.histplot(data=merged_war_df, x='personnel', kde=True)"
   ]
  },
  {
   "cell_type": "code",
   "execution_count": null,
   "id": "b8370bbe",
   "metadata": {},
   "outputs": [
    {
     "data": {
      "text/plain": [
       "<Axes: xlabel='year', ylabel='personnel'>"
      ]
     },
     "execution_count": 47,
     "metadata": {},
     "output_type": "execute_result"
    },
    {
     "data": {
      "image/png": "[encoded data removed]",
      "text/plain": [
       "<Figure size 500x500 with 1 Axes>"
      ]
     },
     "metadata": {},
     "output_type": "display_data"
    }
   ],
   "source": [
    "plot = plt.figure(figsize=(5,5))\n",
    "sns.barplot(x='year', y= 'personnel', data = merged_war_df)"
   ]
  },
  {
   "cell_type": "code",
   "execution_count": null,
   "id": "c9a651a1",
   "metadata": {
    "scrolled": true
   },
   "outputs": [
    {
     "name": "stdout",
     "output_type": "stream",
     "text": [
      "combat_day                    387\n",
      "personnel                  163320\n",
      "year                         2023\n",
      "month                           3\n",
      "day                            17\n",
      "aircraft                      305\n",
      "helicopter                    290\n",
      "tank                         3506\n",
      "APC                          6823\n",
      "field artillery              2552\n",
      "MRL                           504\n",
      "drone                        2145\n",
      "naval ship                     18\n",
      "anti-aircraft warfare         265\n",
      "special equipment             258\n",
      "vehicles and fuel tanks      5401\n",
      "cruise missiles               907\n",
      "submarines                      0\n",
      "Name: 450, dtype: int64\n"
     ]
    }
   ],
   "source": [
    "specific_row = merged_war_df.iloc[450]\n",
    "print(specific_row)"
   ]
  },
  {
   "cell_type": "code",
   "execution_count": null,
   "id": "45a642cf",
   "metadata": {},
   "outputs": [
    {
     "data": {
      "text/html": [
       "<div>\n",
       "<style scoped>\n",
       "    .dataframe tbody tr th:only-of-type {\n",
       "        vertical-align: middle;\n",
       "    }\n",
       "\n",
       "    .dataframe tbody tr th {\n",
       "        vertical-align: top;\n",
       "    }\n",
       "\n",
       "    .dataframe thead th {\n",
       "        text-align: right;\n",
       "    }\n",
       "</style>\n",
       "<table border=\"1\" class=\"dataframe\">\n",
       "  <thead>\n",
       "    <tr style=\"text-align: right;\">\n",
       "      <th></th>\n",
       "      <th>combat_day</th>\n",
       "      <th>personnel</th>\n",
       "      <th>year</th>\n",
       "      <th>month</th>\n",
       "      <th>day</th>\n",
       "    </tr>\n",
       "  </thead>\n",
       "  <tbody>\n",
       "    <tr>\n",
       "      <th>0</th>\n",
       "      <td>837</td>\n",
       "      <td>518560</td>\n",
       "      <td>2024</td>\n",
       "      <td>6</td>\n",
       "      <td>9</td>\n",
       "    </tr>\n",
       "    <tr>\n",
       "      <th>1</th>\n",
       "      <td>836</td>\n",
       "      <td>517290</td>\n",
       "      <td>2024</td>\n",
       "      <td>6</td>\n",
       "      <td>8</td>\n",
       "    </tr>\n",
       "    <tr>\n",
       "      <th>2</th>\n",
       "      <td>835</td>\n",
       "      <td>516080</td>\n",
       "      <td>2024</td>\n",
       "      <td>6</td>\n",
       "      <td>7</td>\n",
       "    </tr>\n",
       "    <tr>\n",
       "      <th>3</th>\n",
       "      <td>834</td>\n",
       "      <td>515000</td>\n",
       "      <td>2024</td>\n",
       "      <td>6</td>\n",
       "      <td>6</td>\n",
       "    </tr>\n",
       "    <tr>\n",
       "      <th>4</th>\n",
       "      <td>833</td>\n",
       "      <td>513700</td>\n",
       "      <td>2024</td>\n",
       "      <td>6</td>\n",
       "      <td>5</td>\n",
       "    </tr>\n",
       "  </tbody>\n",
       "</table>\n",
       "</div>"
      ],
      "text/plain": [
       "   combat_day  personnel  year  month  day\n",
       "0         837     518560  2024      6    9\n",
       "1         836     517290  2024      6    8\n",
       "2         835     516080  2024      6    7\n",
       "3         834     515000  2024      6    6\n",
       "4         833     513700  2024      6    5"
      ]
     },
     "execution_count": 49,
     "metadata": {},
     "output_type": "execute_result"
    }
   ],
   "source": [
    "personal_df.head()"
   ]
  },
  {
   "cell_type": "code",
   "execution_count": null,
   "id": "a5291747",
   "metadata": {},
   "outputs": [],
   "source": [
    "y = merged_war_df['personnel']\n",
    "X = merged_war_df.drop(columns=['personnel'])"
   ]
  },
  {
   "cell_type": "code",
   "execution_count": null,
   "id": "06c1c686",
   "metadata": {},
   "outputs": [],
   "source": [
    "X_train, X_test, y_train, y_test = train_test_split(X, y, test_size=0.2, random_state=42)"
   ]
  },
  {
   "cell_type": "code",
   "execution_count": null,
   "id": "869fa18a",
   "metadata": {},
   "outputs": [
    {
     "name": "stdout",
     "output_type": "stream",
     "text": [
      "(836,) (668,) (168,)\n"
     ]
    }
   ],
   "source": [
    "print(y.shape, y_train.shape, y_test.shape)"
   ]
  },
  {
   "cell_type": "code",
   "execution_count": null,
   "id": "b2c892e6",
   "metadata": {},
   "outputs": [
    {
     "name": "stdout",
     "output_type": "stream",
     "text": [
      "(668, 17) (168, 17)\n",
      "(668,) (168,)\n",
      "(836, 17)\n"
     ]
    }
   ],
   "source": [
    "print(X_train.shape, X_test.shape)\n",
    "print(y_train.shape, y_test.shape)\n",
    "print (X.shape)"
   ]
  },
  {
   "cell_type": "code",
   "execution_count": null,
   "id": "7b0b06b0",
   "metadata": {},
   "outputs": [],
   "source": [
    "test_model = MLPClassifier(hidden_layer_sizes=(20,20,20), learning_rate='constant', learning_rate_init=0.01, max_iter=200, random_state=42)"
   ]
  },
  {
   "cell_type": "code",
   "execution_count": null,
   "id": "ffe3e349",
   "metadata": {},
   "outputs": [
    {
     "name": "stdout",
     "output_type": "stream",
     "text": [
      "CPU times: total: 391 ms\n",
      "Wall time: 1.16 s\n"
     ]
    },
    {
     "data": {
      "text/html": [
       "<style>#sk-container-id-1 {color: black;background-color: white;}#sk-container-id-1 pre{padding: 0;}#sk-container-id-1 div.sk-toggleable {background-color: white;}#sk-container-id-1 label.sk-toggleable__label {cursor: pointer;display: block;width: 100%;margin-bottom: 0;padding: 0.3em;box-sizing: border-box;text-align: center;}#sk-container-id-1 label.sk-toggleable__label-arrow:before {content: \"▸\";float: left;margin-right: 0.25em;color: #696969;}#sk-container-id-1 label.sk-toggleable__label-arrow:hover:before {color: black;}#sk-container-id-1 div.sk-estimator:hover label.sk-toggleable__label-arrow:before {color: black;}#sk-container-id-1 div.sk-toggleable__content {max-height: 0;max-width: 0;overflow: hidden;text-align: left;background-color: #f0f8ff;}#sk-container-id-1 div.sk-toggleable__content pre {margin: 0.2em;color: black;border-radius: 0.25em;background-color: #f0f8ff;}#sk-container-id-1 input.sk-toggleable__control:checked~div.sk-toggleable__content {max-height: 200px;max-width: 100%;overflow: auto;}#sk-container-id-1 input.sk-toggleable__control:checked~label.sk-toggleable__label-arrow:before {content: \"▾\";}#sk-container-id-1 div.sk-estimator input.sk-toggleable__control:checked~label.sk-toggleable__label {background-color: #d4ebff;}#sk-container-id-1 div.sk-label input.sk-toggleable__control:checked~label.sk-toggleable__label {background-color: #d4ebff;}#sk-container-id-1 input.sk-hidden--visually {border: 0;clip: rect(1px 1px 1px 1px);clip: rect(1px, 1px, 1px, 1px);height: 1px;margin: -1px;overflow: hidden;padding: 0;position: absolute;width: 1px;}#sk-container-id-1 div.sk-estimator {font-family: monospace;background-color: #f0f8ff;border: 1px dotted black;border-radius: 0.25em;box-sizing: border-box;margin-bottom: 0.5em;}#sk-container-id-1 div.sk-estimator:hover {background-color: #d4ebff;}#sk-container-id-1 div.sk-parallel-item::after {content: \"\";width: 100%;border-bottom: 1px solid gray;flex-grow: 1;}#sk-container-id-1 div.sk-label:hover label.sk-toggleable__label {background-color: #d4ebff;}#sk-container-id-1 div.sk-serial::before {content: \"\";position: absolute;border-left: 1px solid gray;box-sizing: border-box;top: 0;bottom: 0;left: 50%;z-index: 0;}#sk-container-id-1 div.sk-serial {display: flex;flex-direction: column;align-items: center;background-color: white;padding-right: 0.2em;padding-left: 0.2em;position: relative;}#sk-container-id-1 div.sk-item {position: relative;z-index: 1;}#sk-container-id-1 div.sk-parallel {display: flex;align-items: stretch;justify-content: center;background-color: white;position: relative;}#sk-container-id-1 div.sk-item::before, #sk-container-id-1 div.sk-parallel-item::before {content: \"\";position: absolute;border-left: 1px solid gray;box-sizing: border-box;top: 0;bottom: 0;left: 50%;z-index: -1;}#sk-container-id-1 div.sk-parallel-item {display: flex;flex-direction: column;z-index: 1;position: relative;background-color: white;}#sk-container-id-1 div.sk-parallel-item:first-child::after {align-self: flex-end;width: 50%;}#sk-container-id-1 div.sk-parallel-item:last-child::after {align-self: flex-start;width: 50%;}#sk-container-id-1 div.sk-parallel-item:only-child::after {width: 0;}#sk-container-id-1 div.sk-dashed-wrapped {border: 1px dashed gray;margin: 0 0.4em 0.5em 0.4em;box-sizing: border-box;padding-bottom: 0.4em;background-color: white;}#sk-container-id-1 div.sk-label label {font-family: monospace;font-weight: bold;display: inline-block;line-height: 1.2em;}#sk-container-id-1 div.sk-label-container {text-align: center;}#sk-container-id-1 div.sk-container {/* jupyter's `normalize.less` sets `[hidden] { display: none; }` but bootstrap.min.css set `[hidden] { display: none !important; }` so we also need the `!important` here to be able to override the default hidden behavior on the sphinx rendered scikit-learn.org. See: https://github.com/scikit-learn/scikit-learn/issues/21755 */display: inline-block !important;position: relative;}#sk-container-id-1 div.sk-text-repr-fallback {display: none;}</style><div id=\"sk-container-id-1\" class=\"sk-top-container\"><div class=\"sk-text-repr-fallback\"><pre>MLPClassifier(hidden_layer_sizes=(20, 20, 20), learning_rate_init=0.01,\n",
       "              random_state=42)</pre><b>In a Jupyter environment, please rerun this cell to show the HTML representation or trust the notebook. <br />On GitHub, the HTML representation is unable to render, please try loading this page with nbviewer.org.</b></div><div class=\"sk-container\" hidden><div class=\"sk-item\"><div class=\"sk-estimator sk-toggleable\"><input class=\"sk-toggleable__control sk-hidden--visually\" id=\"sk-estimator-id-1\" type=\"checkbox\" checked><label for=\"sk-estimator-id-1\" class=\"sk-toggleable__label sk-toggleable__label-arrow\">MLPClassifier</label><div class=\"sk-toggleable__content\"><pre>MLPClassifier(hidden_layer_sizes=(20, 20, 20), learning_rate_init=0.01,\n",
       "              random_state=42)</pre></div></div></div></div></div>"
      ],
      "text/plain": [
       "MLPClassifier(hidden_layer_sizes=(20, 20, 20), learning_rate_init=0.01,\n",
       "              random_state=42)"
      ]
     },
     "execution_count": 55,
     "metadata": {},
     "output_type": "execute_result"
    }
   ],
   "source": [
    "%%time\n",
    "test_model.fit(X_train,y_train)"
   ]
  },
  {
   "cell_type": "code",
   "execution_count": null,
   "id": "612ce305",
   "metadata": {},
   "outputs": [],
   "source": [
    "predictions_1 = test_model.predict(X_test)"
   ]
  },
  {
   "cell_type": "code",
   "execution_count": null,
   "id": "40b6cfd8",
   "metadata": {
    "scrolled": true
   },
   "outputs": [
    {
     "data": {
      "text/plain": [
       "0.011904761904761904"
      ]
     },
     "execution_count": 57,
     "metadata": {},
     "output_type": "execute_result"
    }
   ],
   "source": [
    "accuracy_score(y_test,predictions_1)"
   ]
  },
  {
   "cell_type": "code",
   "execution_count": null,
   "id": "cd3aa466",
   "metadata": {},
   "outputs": [
    {
     "name": "stdout",
     "output_type": "stream",
     "text": [
      "Absolute Mean Error: 88965.50595238095\n"
     ]
    }
   ],
   "source": [
    "predictions_1 = test_model.predict(X_test)\n",
    "ame_3 = mean_absolute_error(y_test,predictions_1)\n",
    "print(\"Absolute Mean Error:\", ame_3)"
   ]
  },
  {
   "cell_type": "code",
   "execution_count": null,
   "id": "011016f4",
   "metadata": {},
   "outputs": [
    {
     "data": {
      "text/html": [
       "<div>\n",
       "<style scoped>\n",
       "    .dataframe tbody tr th:only-of-type {\n",
       "        vertical-align: middle;\n",
       "    }\n",
       "\n",
       "    .dataframe tbody tr th {\n",
       "        vertical-align: top;\n",
       "    }\n",
       "\n",
       "    .dataframe thead th {\n",
       "        text-align: right;\n",
       "    }\n",
       "</style>\n",
       "<table border=\"1\" class=\"dataframe\">\n",
       "  <thead>\n",
       "    <tr style=\"text-align: right;\">\n",
       "      <th></th>\n",
       "      <th>real values</th>\n",
       "      <th>predicted  vaules</th>\n",
       "      <th>difference</th>\n",
       "    </tr>\n",
       "  </thead>\n",
       "  <tbody>\n",
       "    <tr>\n",
       "      <th>611</th>\n",
       "      <td>61680</td>\n",
       "      <td>62500</td>\n",
       "      <td>820</td>\n",
       "    </tr>\n",
       "    <tr>\n",
       "      <th>823</th>\n",
       "      <td>12000</td>\n",
       "      <td>12000</td>\n",
       "      <td>0</td>\n",
       "    </tr>\n",
       "    <tr>\n",
       "      <th>290</th>\n",
       "      <td>259160</td>\n",
       "      <td>346070</td>\n",
       "      <td>86910</td>\n",
       "    </tr>\n",
       "    <tr>\n",
       "      <th>801</th>\n",
       "      <td>17500</td>\n",
       "      <td>20800</td>\n",
       "      <td>3300</td>\n",
       "    </tr>\n",
       "    <tr>\n",
       "      <th>168</th>\n",
       "      <td>353190</td>\n",
       "      <td>346070</td>\n",
       "      <td>-7120</td>\n",
       "    </tr>\n",
       "    <tr>\n",
       "      <th>...</th>\n",
       "      <td>...</td>\n",
       "      <td>...</td>\n",
       "      <td>...</td>\n",
       "    </tr>\n",
       "    <tr>\n",
       "      <th>653</th>\n",
       "      <td>46250</td>\n",
       "      <td>49800</td>\n",
       "      <td>3550</td>\n",
       "    </tr>\n",
       "    <tr>\n",
       "      <th>456</th>\n",
       "      <td>158000</td>\n",
       "      <td>346070</td>\n",
       "      <td>188070</td>\n",
       "    </tr>\n",
       "    <tr>\n",
       "      <th>778</th>\n",
       "      <td>21600</td>\n",
       "      <td>21900</td>\n",
       "      <td>300</td>\n",
       "    </tr>\n",
       "    <tr>\n",
       "      <th>532</th>\n",
       "      <td>102050</td>\n",
       "      <td>241960</td>\n",
       "      <td>139910</td>\n",
       "    </tr>\n",
       "    <tr>\n",
       "      <th>478</th>\n",
       "      <td>141260</td>\n",
       "      <td>346070</td>\n",
       "      <td>204810</td>\n",
       "    </tr>\n",
       "  </tbody>\n",
       "</table>\n",
       "<p>168 rows × 3 columns</p>\n",
       "</div>"
      ],
      "text/plain": [
       "     real values  predicted  vaules  difference\n",
       "611        61680              62500         820\n",
       "823        12000              12000           0\n",
       "290       259160             346070       86910\n",
       "801        17500              20800        3300\n",
       "168       353190             346070       -7120\n",
       "..           ...                ...         ...\n",
       "653        46250              49800        3550\n",
       "456       158000             346070      188070\n",
       "778        21600              21900         300\n",
       "532       102050             241960      139910\n",
       "478       141260             346070      204810\n",
       "\n",
       "[168 rows x 3 columns]"
      ]
     },
     "execution_count": 59,
     "metadata": {},
     "output_type": "execute_result"
    }
   ],
   "source": [
    "neural_df = pd.DataFrame (data= {'real values': y_test,\n",
    "                              'predicted  vaules': predictions_1})\n",
    "neural_df['difference'] = neural_df['predicted  vaules'] - neural_df['real values']\n",
    "neural_df"
   ]
  },
  {
   "cell_type": "code",
   "execution_count": null,
   "id": "3760ad22",
   "metadata": {},
   "outputs": [
    {
     "data": {
      "text/plain": [
       "real values          193666.696429\n",
       "predicted  vaules    235583.273810\n",
       "difference            41916.577381\n",
       "dtype: float64"
      ]
     },
     "execution_count": 60,
     "metadata": {},
     "output_type": "execute_result"
    }
   ],
   "source": [
    "neural_df.mean()"
   ]
  },
  {
   "cell_type": "code",
   "execution_count": null,
   "id": "68d48742",
   "metadata": {},
   "outputs": [
    {
     "data": {
      "text/plain": [
       "real values          166200.0\n",
       "predicted  vaules    346070.0\n",
       "difference             7925.0\n",
       "dtype: float64"
      ]
     },
     "execution_count": 61,
     "metadata": {},
     "output_type": "execute_result"
    }
   ],
   "source": [
    "neural_df.median()"
   ]
  },
  {
   "cell_type": "code",
   "execution_count": null,
   "id": "8cf21d31",
   "metadata": {},
   "outputs": [],
   "source": [
    "forest_model = RandomForestRegressor(n_estimators=100, criterion= 'squared_error')"
   ]
  },
  {
   "cell_type": "code",
   "execution_count": null,
   "id": "727aea0b",
   "metadata": {},
   "outputs": [
    {
     "data": {
      "text/html": [
       "<style>#sk-container-id-4 {color: black;background-color: white;}#sk-container-id-4 pre{padding: 0;}#sk-container-id-4 div.sk-toggleable {background-color: white;}#sk-container-id-4 label.sk-toggleable__label {cursor: pointer;display: block;width: 100%;margin-bottom: 0;padding: 0.3em;box-sizing: border-box;text-align: center;}#sk-container-id-4 label.sk-toggleable__label-arrow:before {content: \"▸\";float: left;margin-right: 0.25em;color: #696969;}#sk-container-id-4 label.sk-toggleable__label-arrow:hover:before {color: black;}#sk-container-id-4 div.sk-estimator:hover label.sk-toggleable__label-arrow:before {color: black;}#sk-container-id-4 div.sk-toggleable__content {max-height: 0;max-width: 0;overflow: hidden;text-align: left;background-color: #f0f8ff;}#sk-container-id-4 div.sk-toggleable__content pre {margin: 0.2em;color: black;border-radius: 0.25em;background-color: #f0f8ff;}#sk-container-id-4 input.sk-toggleable__control:checked~div.sk-toggleable__content {max-height: 200px;max-width: 100%;overflow: auto;}#sk-container-id-4 input.sk-toggleable__control:checked~label.sk-toggleable__label-arrow:before {content: \"▾\";}#sk-container-id-4 div.sk-estimator input.sk-toggleable__control:checked~label.sk-toggleable__label {background-color: #d4ebff;}#sk-container-id-4 div.sk-label input.sk-toggleable__control:checked~label.sk-toggleable__label {background-color: #d4ebff;}#sk-container-id-4 input.sk-hidden--visually {border: 0;clip: rect(1px 1px 1px 1px);clip: rect(1px, 1px, 1px, 1px);height: 1px;margin: -1px;overflow: hidden;padding: 0;position: absolute;width: 1px;}#sk-container-id-4 div.sk-estimator {font-family: monospace;background-color: #f0f8ff;border: 1px dotted black;border-radius: 0.25em;box-sizing: border-box;margin-bottom: 0.5em;}#sk-container-id-4 div.sk-estimator:hover {background-color: #d4ebff;}#sk-container-id-4 div.sk-parallel-item::after {content: \"\";width: 100%;border-bottom: 1px solid gray;flex-grow: 1;}#sk-container-id-4 div.sk-label:hover label.sk-toggleable__label {background-color: #d4ebff;}#sk-container-id-4 div.sk-serial::before {content: \"\";position: absolute;border-left: 1px solid gray;box-sizing: border-box;top: 0;bottom: 0;left: 50%;z-index: 0;}#sk-container-id-4 div.sk-serial {display: flex;flex-direction: column;align-items: center;background-color: white;padding-right: 0.2em;padding-left: 0.2em;position: relative;}#sk-container-id-4 div.sk-item {position: relative;z-index: 1;}#sk-container-id-4 div.sk-parallel {display: flex;align-items: stretch;justify-content: center;background-color: white;position: relative;}#sk-container-id-4 div.sk-item::before, #sk-container-id-4 div.sk-parallel-item::before {content: \"\";position: absolute;border-left: 1px solid gray;box-sizing: border-box;top: 0;bottom: 0;left: 50%;z-index: -1;}#sk-container-id-4 div.sk-parallel-item {display: flex;flex-direction: column;z-index: 1;position: relative;background-color: white;}#sk-container-id-4 div.sk-parallel-item:first-child::after {align-self: flex-end;width: 50%;}#sk-container-id-4 div.sk-parallel-item:last-child::after {align-self: flex-start;width: 50%;}#sk-container-id-4 div.sk-parallel-item:only-child::after {width: 0;}#sk-container-id-4 div.sk-dashed-wrapped {border: 1px dashed gray;margin: 0 0.4em 0.5em 0.4em;box-sizing: border-box;padding-bottom: 0.4em;background-color: white;}#sk-container-id-4 div.sk-label label {font-family: monospace;font-weight: bold;display: inline-block;line-height: 1.2em;}#sk-container-id-4 div.sk-label-container {text-align: center;}#sk-container-id-4 div.sk-container {/* jupyter's `normalize.less` sets `[hidden] { display: none; }` but bootstrap.min.css set `[hidden] { display: none !important; }` so we also need the `!important` here to be able to override the default hidden behavior on the sphinx rendered scikit-learn.org. See: https://github.com/scikit-learn/scikit-learn/issues/21755 */display: inline-block !important;position: relative;}#sk-container-id-4 div.sk-text-repr-fallback {display: none;}</style><div id=\"sk-container-id-4\" class=\"sk-top-container\"><div class=\"sk-text-repr-fallback\"><pre>RandomForestRegressor()</pre><b>In a Jupyter environment, please rerun this cell to show the HTML representation or trust the notebook. <br />On GitHub, the HTML representation is unable to render, please try loading this page with nbviewer.org.</b></div><div class=\"sk-container\" hidden><div class=\"sk-item\"><div class=\"sk-estimator sk-toggleable\"><input class=\"sk-toggleable__control sk-hidden--visually\" id=\"sk-estimator-id-4\" type=\"checkbox\" checked><label for=\"sk-estimator-id-4\" class=\"sk-toggleable__label sk-toggleable__label-arrow\">RandomForestRegressor</label><div class=\"sk-toggleable__content\"><pre>RandomForestRegressor()</pre></div></div></div></div></div>"
      ],
      "text/plain": [
       "RandomForestRegressor()"
      ]
     },
     "execution_count": 94,
     "metadata": {},
     "output_type": "execute_result"
    }
   ],
   "source": [
    "forest_model.fit(X_train,y_train)"
   ]
  },
  {
   "cell_type": "code",
   "execution_count": null,
   "id": "575ea4f3",
   "metadata": {},
   "outputs": [
    {
     "data": {
      "text/plain": [
       "0.999995019570324"
      ]
     },
     "execution_count": 95,
     "metadata": {},
     "output_type": "execute_result"
    }
   ],
   "source": [
    "forest_model.score(X_test,y_test)"
   ]
  },
  {
   "cell_type": "code",
   "execution_count": null,
   "id": "ed6bf13e",
   "metadata": {},
   "outputs": [
    {
     "name": "stdout",
     "output_type": "stream",
     "text": [
      "Absolute Mean Error: 248.74273809523797\n"
     ]
    }
   ],
   "source": [
    "y_pred_2 = forest_model.predict(X_test)\n",
    "ame_2 = mean_absolute_error(y_test,y_pred_2)\n",
    "print(\"Absolute Mean Error:\", ame_2)"
   ]
  },
  {
   "cell_type": "code",
   "execution_count": null,
   "id": "b682e37c",
   "metadata": {},
   "outputs": [
    {
     "data": {
      "text/html": [
       "<div>\n",
       "<style scoped>\n",
       "    .dataframe tbody tr th:only-of-type {\n",
       "        vertical-align: middle;\n",
       "    }\n",
       "\n",
       "    .dataframe tbody tr th {\n",
       "        vertical-align: top;\n",
       "    }\n",
       "\n",
       "    .dataframe thead th {\n",
       "        text-align: right;\n",
       "    }\n",
       "</style>\n",
       "<table border=\"1\" class=\"dataframe\">\n",
       "  <thead>\n",
       "    <tr style=\"text-align: right;\">\n",
       "      <th></th>\n",
       "      <th>real values</th>\n",
       "      <th>predicted  vaules</th>\n",
       "      <th>difference</th>\n",
       "    </tr>\n",
       "  </thead>\n",
       "  <tbody>\n",
       "    <tr>\n",
       "      <th>611</th>\n",
       "      <td>61680</td>\n",
       "      <td>61626.6</td>\n",
       "      <td>-53.4</td>\n",
       "    </tr>\n",
       "    <tr>\n",
       "      <th>823</th>\n",
       "      <td>12000</td>\n",
       "      <td>11750.0</td>\n",
       "      <td>-250.0</td>\n",
       "    </tr>\n",
       "    <tr>\n",
       "      <th>290</th>\n",
       "      <td>259160</td>\n",
       "      <td>259387.8</td>\n",
       "      <td>227.8</td>\n",
       "    </tr>\n",
       "    <tr>\n",
       "      <th>801</th>\n",
       "      <td>17500</td>\n",
       "      <td>17394.0</td>\n",
       "      <td>-106.0</td>\n",
       "    </tr>\n",
       "    <tr>\n",
       "      <th>168</th>\n",
       "      <td>353190</td>\n",
       "      <td>352603.7</td>\n",
       "      <td>-586.3</td>\n",
       "    </tr>\n",
       "    <tr>\n",
       "      <th>...</th>\n",
       "      <td>...</td>\n",
       "      <td>...</td>\n",
       "      <td>...</td>\n",
       "    </tr>\n",
       "    <tr>\n",
       "      <th>653</th>\n",
       "      <td>46250</td>\n",
       "      <td>46235.0</td>\n",
       "      <td>-15.0</td>\n",
       "    </tr>\n",
       "    <tr>\n",
       "      <th>456</th>\n",
       "      <td>158000</td>\n",
       "      <td>158384.3</td>\n",
       "      <td>384.3</td>\n",
       "    </tr>\n",
       "    <tr>\n",
       "      <th>778</th>\n",
       "      <td>21600</td>\n",
       "      <td>21473.0</td>\n",
       "      <td>-127.0</td>\n",
       "    </tr>\n",
       "    <tr>\n",
       "      <th>532</th>\n",
       "      <td>102050</td>\n",
       "      <td>101787.9</td>\n",
       "      <td>-262.1</td>\n",
       "    </tr>\n",
       "    <tr>\n",
       "      <th>478</th>\n",
       "      <td>141260</td>\n",
       "      <td>141148.6</td>\n",
       "      <td>-111.4</td>\n",
       "    </tr>\n",
       "  </tbody>\n",
       "</table>\n",
       "<p>168 rows × 3 columns</p>\n",
       "</div>"
      ],
      "text/plain": [
       "     real values  predicted  vaules  difference\n",
       "611        61680            61626.6       -53.4\n",
       "823        12000            11750.0      -250.0\n",
       "290       259160           259387.8       227.8\n",
       "801        17500            17394.0      -106.0\n",
       "168       353190           352603.7      -586.3\n",
       "..           ...                ...         ...\n",
       "653        46250            46235.0       -15.0\n",
       "456       158000           158384.3       384.3\n",
       "778        21600            21473.0      -127.0\n",
       "532       102050           101787.9      -262.1\n",
       "478       141260           141148.6      -111.4\n",
       "\n",
       "[168 rows x 3 columns]"
      ]
     },
     "execution_count": 97,
     "metadata": {},
     "output_type": "execute_result"
    }
   ],
   "source": [
    "forest_df = pd.DataFrame (data= {'real values': y_test,\n",
    "                              'predicted  vaules': y_pred_2})\n",
    "forest_df['difference'] = forest_df['predicted  vaules'] - forest_df['real values']\n",
    "forest_df"
   ]
  },
  {
   "cell_type": "code",
   "execution_count": null,
   "id": "03f68d9a",
   "metadata": {},
   "outputs": [
    {
     "data": {
      "text/plain": [
       "real values          166200.00\n",
       "predicted  vaules    165791.40\n",
       "difference              -62.95\n",
       "dtype: float64"
      ]
     },
     "execution_count": 98,
     "metadata": {},
     "output_type": "execute_result"
    }
   ],
   "source": [
    "forest_df.median()"
   ]
  },
  {
   "cell_type": "code",
   "execution_count": null,
   "id": "f4f801b8",
   "metadata": {},
   "outputs": [
    {
     "data": {
      "text/plain": [
       "real values          193666.696429\n",
       "predicted  vaules    193572.906310\n",
       "difference              -93.790119\n",
       "dtype: float64"
      ]
     },
     "execution_count": 99,
     "metadata": {},
     "output_type": "execute_result"
    }
   ],
   "source": [
    "forest_df.mean()"
   ]
  },
  {
   "cell_type": "code",
   "execution_count": null,
   "id": "1d2948cb",
   "metadata": {},
   "outputs": [
    {
     "data": {
      "text/html": [
       "<div>\n",
       "<style scoped>\n",
       "    .dataframe tbody tr th:only-of-type {\n",
       "        vertical-align: middle;\n",
       "    }\n",
       "\n",
       "    .dataframe tbody tr th {\n",
       "        vertical-align: top;\n",
       "    }\n",
       "\n",
       "    .dataframe thead th {\n",
       "        text-align: right;\n",
       "    }\n",
       "</style>\n",
       "<table border=\"1\" class=\"dataframe\">\n",
       "  <thead>\n",
       "    <tr style=\"text-align: right;\">\n",
       "      <th></th>\n",
       "      <th>real values</th>\n",
       "      <th>predicted  vaules</th>\n",
       "      <th>difference</th>\n",
       "    </tr>\n",
       "  </thead>\n",
       "  <tbody>\n",
       "    <tr>\n",
       "      <th>2</th>\n",
       "      <td>516080</td>\n",
       "      <td>515813.00</td>\n",
       "      <td>-267.00</td>\n",
       "    </tr>\n",
       "    <tr>\n",
       "      <th>5</th>\n",
       "      <td>512420</td>\n",
       "      <td>512680.60</td>\n",
       "      <td>260.60</td>\n",
       "    </tr>\n",
       "    <tr>\n",
       "      <th>7</th>\n",
       "      <td>509860</td>\n",
       "      <td>510353.30</td>\n",
       "      <td>493.30</td>\n",
       "    </tr>\n",
       "    <tr>\n",
       "      <th>10</th>\n",
       "      <td>506260</td>\n",
       "      <td>505703.40</td>\n",
       "      <td>-556.60</td>\n",
       "    </tr>\n",
       "    <tr>\n",
       "      <th>23</th>\n",
       "      <td>489870</td>\n",
       "      <td>489451.00</td>\n",
       "      <td>-419.00</td>\n",
       "    </tr>\n",
       "    <tr>\n",
       "      <th>...</th>\n",
       "      <td>...</td>\n",
       "      <td>...</td>\n",
       "      <td>...</td>\n",
       "    </tr>\n",
       "    <tr>\n",
       "      <th>816</th>\n",
       "      <td>13800</td>\n",
       "      <td>13942.00</td>\n",
       "      <td>142.00</td>\n",
       "    </tr>\n",
       "    <tr>\n",
       "      <th>822</th>\n",
       "      <td>12000</td>\n",
       "      <td>11900.00</td>\n",
       "      <td>-100.00</td>\n",
       "    </tr>\n",
       "    <tr>\n",
       "      <th>823</th>\n",
       "      <td>12000</td>\n",
       "      <td>11750.00</td>\n",
       "      <td>-250.00</td>\n",
       "    </tr>\n",
       "    <tr>\n",
       "      <th>831</th>\n",
       "      <td>5710</td>\n",
       "      <td>6408.92</td>\n",
       "      <td>698.92</td>\n",
       "    </tr>\n",
       "    <tr>\n",
       "      <th>832</th>\n",
       "      <td>5300</td>\n",
       "      <td>5426.60</td>\n",
       "      <td>126.60</td>\n",
       "    </tr>\n",
       "  </tbody>\n",
       "</table>\n",
       "<p>168 rows × 3 columns</p>\n",
       "</div>"
      ],
      "text/plain": [
       "     real values  predicted  vaules  difference\n",
       "2         516080          515813.00     -267.00\n",
       "5         512420          512680.60      260.60\n",
       "7         509860          510353.30      493.30\n",
       "10        506260          505703.40     -556.60\n",
       "23        489870          489451.00     -419.00\n",
       "..           ...                ...         ...\n",
       "816        13800           13942.00      142.00\n",
       "822        12000           11900.00     -100.00\n",
       "823        12000           11750.00     -250.00\n",
       "831         5710            6408.92      698.92\n",
       "832         5300            5426.60      126.60\n",
       "\n",
       "[168 rows x 3 columns]"
      ]
     },
     "execution_count": 100,
     "metadata": {},
     "output_type": "execute_result"
    }
   ],
   "source": [
    "forest_df.sort_values(by=[\"real values\"], ascending=False)"
   ]
  },
  {
   "cell_type": "code",
   "execution_count": null,
   "id": "419549a1",
   "metadata": {},
   "outputs": [
    {
     "data": {
      "text/plain": [
       "0.9999950169378674"
      ]
     },
     "execution_count": 101,
     "metadata": {},
     "output_type": "execute_result"
    }
   ],
   "source": [
    "r2_score(y_pred_2,y_test)"
   ]
  },
  {
   "cell_type": "code",
   "execution_count": null,
   "id": "8ad5b0f6",
   "metadata": {},
   "outputs": [],
   "source": [
    "linear_model = LinearRegression()"
   ]
  },
  {
   "cell_type": "code",
   "execution_count": null,
   "id": "5bc08a9f",
   "metadata": {},
   "outputs": [
    {
     "data": {
      "text/html": [
       "<style>#sk-container-id-5 {color: black;background-color: white;}#sk-container-id-5 pre{padding: 0;}#sk-container-id-5 div.sk-toggleable {background-color: white;}#sk-container-id-5 label.sk-toggleable__label {cursor: pointer;display: block;width: 100%;margin-bottom: 0;padding: 0.3em;box-sizing: border-box;text-align: center;}#sk-container-id-5 label.sk-toggleable__label-arrow:before {content: \"▸\";float: left;margin-right: 0.25em;color: #696969;}#sk-container-id-5 label.sk-toggleable__label-arrow:hover:before {color: black;}#sk-container-id-5 div.sk-estimator:hover label.sk-toggleable__label-arrow:before {color: black;}#sk-container-id-5 div.sk-toggleable__content {max-height: 0;max-width: 0;overflow: hidden;text-align: left;background-color: #f0f8ff;}#sk-container-id-5 div.sk-toggleable__content pre {margin: 0.2em;color: black;border-radius: 0.25em;background-color: #f0f8ff;}#sk-container-id-5 input.sk-toggleable__control:checked~div.sk-toggleable__content {max-height: 200px;max-width: 100%;overflow: auto;}#sk-container-id-5 input.sk-toggleable__control:checked~label.sk-toggleable__label-arrow:before {content: \"▾\";}#sk-container-id-5 div.sk-estimator input.sk-toggleable__control:checked~label.sk-toggleable__label {background-color: #d4ebff;}#sk-container-id-5 div.sk-label input.sk-toggleable__control:checked~label.sk-toggleable__label {background-color: #d4ebff;}#sk-container-id-5 input.sk-hidden--visually {border: 0;clip: rect(1px 1px 1px 1px);clip: rect(1px, 1px, 1px, 1px);height: 1px;margin: -1px;overflow: hidden;padding: 0;position: absolute;width: 1px;}#sk-container-id-5 div.sk-estimator {font-family: monospace;background-color: #f0f8ff;border: 1px dotted black;border-radius: 0.25em;box-sizing: border-box;margin-bottom: 0.5em;}#sk-container-id-5 div.sk-estimator:hover {background-color: #d4ebff;}#sk-container-id-5 div.sk-parallel-item::after {content: \"\";width: 100%;border-bottom: 1px solid gray;flex-grow: 1;}#sk-container-id-5 div.sk-label:hover label.sk-toggleable__label {background-color: #d4ebff;}#sk-container-id-5 div.sk-serial::before {content: \"\";position: absolute;border-left: 1px solid gray;box-sizing: border-box;top: 0;bottom: 0;left: 50%;z-index: 0;}#sk-container-id-5 div.sk-serial {display: flex;flex-direction: column;align-items: center;background-color: white;padding-right: 0.2em;padding-left: 0.2em;position: relative;}#sk-container-id-5 div.sk-item {position: relative;z-index: 1;}#sk-container-id-5 div.sk-parallel {display: flex;align-items: stretch;justify-content: center;background-color: white;position: relative;}#sk-container-id-5 div.sk-item::before, #sk-container-id-5 div.sk-parallel-item::before {content: \"\";position: absolute;border-left: 1px solid gray;box-sizing: border-box;top: 0;bottom: 0;left: 50%;z-index: -1;}#sk-container-id-5 div.sk-parallel-item {display: flex;flex-direction: column;z-index: 1;position: relative;background-color: white;}#sk-container-id-5 div.sk-parallel-item:first-child::after {align-self: flex-end;width: 50%;}#sk-container-id-5 div.sk-parallel-item:last-child::after {align-self: flex-start;width: 50%;}#sk-container-id-5 div.sk-parallel-item:only-child::after {width: 0;}#sk-container-id-5 div.sk-dashed-wrapped {border: 1px dashed gray;margin: 0 0.4em 0.5em 0.4em;box-sizing: border-box;padding-bottom: 0.4em;background-color: white;}#sk-container-id-5 div.sk-label label {font-family: monospace;font-weight: bold;display: inline-block;line-height: 1.2em;}#sk-container-id-5 div.sk-label-container {text-align: center;}#sk-container-id-5 div.sk-container {/* jupyter's `normalize.less` sets `[hidden] { display: none; }` but bootstrap.min.css set `[hidden] { display: none !important; }` so we also need the `!important` here to be able to override the default hidden behavior on the sphinx rendered scikit-learn.org. See: https://github.com/scikit-learn/scikit-learn/issues/21755 */display: inline-block !important;position: relative;}#sk-container-id-5 div.sk-text-repr-fallback {display: none;}</style><div id=\"sk-container-id-5\" class=\"sk-top-container\"><div class=\"sk-text-repr-fallback\"><pre>LinearRegression()</pre><b>In a Jupyter environment, please rerun this cell to show the HTML representation or trust the notebook. <br />On GitHub, the HTML representation is unable to render, please try loading this page with nbviewer.org.</b></div><div class=\"sk-container\" hidden><div class=\"sk-item\"><div class=\"sk-estimator sk-toggleable\"><input class=\"sk-toggleable__control sk-hidden--visually\" id=\"sk-estimator-id-5\" type=\"checkbox\" checked><label for=\"sk-estimator-id-5\" class=\"sk-toggleable__label sk-toggleable__label-arrow\">LinearRegression</label><div class=\"sk-toggleable__content\"><pre>LinearRegression()</pre></div></div></div></div></div>"
      ],
      "text/plain": [
       "LinearRegression()"
      ]
     },
     "execution_count": 103,
     "metadata": {},
     "output_type": "execute_result"
    }
   ],
   "source": [
    "linear_model.fit(X_train,y_train)"
   ]
  },
  {
   "cell_type": "code",
   "execution_count": null,
   "id": "92649564",
   "metadata": {},
   "outputs": [
    {
     "data": {
      "text/plain": [
       "0.9993252589996735"
      ]
     },
     "execution_count": 104,
     "metadata": {},
     "output_type": "execute_result"
    }
   ],
   "source": [
    "linear_model.score(X_test,y_test)"
   ]
  },
  {
   "cell_type": "code",
   "execution_count": null,
   "id": "8159c8be",
   "metadata": {},
   "outputs": [],
   "source": [
    "y_pred = linear_model.predict(X_test)\n"
   ]
  },
  {
   "cell_type": "code",
   "execution_count": null,
   "id": "49f0fcc8",
   "metadata": {},
   "outputs": [
    {
     "name": "stdout",
     "output_type": "stream",
     "text": [
      "(168,)\n"
     ]
    }
   ],
   "source": [
    "print(y_pred.shape)"
   ]
  },
  {
   "cell_type": "code",
   "execution_count": null,
   "id": "1ca76720",
   "metadata": {},
   "outputs": [
    {
     "name": "stdout",
     "output_type": "stream",
     "text": [
      "X_test shape: (168, 17)\n",
      "y_test shape: (168,)\n",
      "y_pred shape: (168,)\n"
     ]
    }
   ],
   "source": [
    "print(f'X_test shape: {X_test.shape}')\n",
    "print(f'y_test shape: {y_test.shape}')\n",
    "print(f'y_pred shape: {y_pred.shape}')"
   ]
  },
  {
   "cell_type": "code",
   "execution_count": null,
   "id": "c752c472",
   "metadata": {},
   "outputs": [
    {
     "data": {
      "text/plain": [
       "array([-5.91044379e+03,  2.33589857e+06,  1.94087215e+05,  6.41856135e+03,\n",
       "        1.62486912e+02, -5.77382531e+01,  3.19148289e+01, -3.34311997e+01,\n",
       "        1.86095798e+01,  1.02739808e+02,  4.44993367e+00, -3.75598540e+02,\n",
       "       -4.64428435e+02,  1.23561956e+02, -2.01884130e+00,  2.71731787e+01,\n",
       "       -1.55052032e+04])"
      ]
     },
     "execution_count": 108,
     "metadata": {},
     "output_type": "execute_result"
    }
   ],
   "source": [
    "linear_model.coef_"
   ]
  },
  {
   "cell_type": "code",
   "execution_count": null,
   "id": "b730582a",
   "metadata": {},
   "outputs": [
    {
     "data": {
      "text/plain": [
       "-4723704779.944354"
      ]
     },
     "execution_count": 109,
     "metadata": {},
     "output_type": "execute_result"
    }
   ],
   "source": [
    "linear_model.intercept_"
   ]
  },
  {
   "cell_type": "code",
   "execution_count": null,
   "id": "d3cc56b6",
   "metadata": {},
   "outputs": [
    {
     "name": "stdout",
     "output_type": "stream",
     "text": [
      "mean squared error 16098801.490327466\n"
     ]
    }
   ],
   "source": [
    "mse = mean_squared_error(y_test,y_pred)\n",
    "print (\"mean squared error\",mse)"
   ]
  },
  {
   "cell_type": "code",
   "execution_count": null,
   "id": "cdbce4ab",
   "metadata": {},
   "outputs": [
    {
     "name": "stdout",
     "output_type": "stream",
     "text": [
      "Absolute Mean Error: 3243.946066351164\n"
     ]
    }
   ],
   "source": [
    "ame = mean_absolute_error(y_test, y_pred)\n",
    "print(\"Absolute Mean Error:\", ame)"
   ]
  },
  {
   "cell_type": "code",
   "execution_count": null,
   "id": "ab611c02",
   "metadata": {},
   "outputs": [
    {
     "data": {
      "text/html": [
       "<div>\n",
       "<style scoped>\n",
       "    .dataframe tbody tr th:only-of-type {\n",
       "        vertical-align: middle;\n",
       "    }\n",
       "\n",
       "    .dataframe tbody tr th {\n",
       "        vertical-align: top;\n",
       "    }\n",
       "\n",
       "    .dataframe thead th {\n",
       "        text-align: right;\n",
       "    }\n",
       "</style>\n",
       "<table border=\"1\" class=\"dataframe\">\n",
       "  <thead>\n",
       "    <tr style=\"text-align: right;\">\n",
       "      <th></th>\n",
       "      <th>real values</th>\n",
       "      <th>predicted  vaules</th>\n",
       "      <th>difference</th>\n",
       "    </tr>\n",
       "  </thead>\n",
       "  <tbody>\n",
       "    <tr>\n",
       "      <th>611</th>\n",
       "      <td>61680</td>\n",
       "      <td>65275.316912</td>\n",
       "      <td>3595.316912</td>\n",
       "    </tr>\n",
       "    <tr>\n",
       "      <th>823</th>\n",
       "      <td>12000</td>\n",
       "      <td>10929.857999</td>\n",
       "      <td>-1070.142001</td>\n",
       "    </tr>\n",
       "    <tr>\n",
       "      <th>290</th>\n",
       "      <td>259160</td>\n",
       "      <td>257945.319523</td>\n",
       "      <td>-1214.680477</td>\n",
       "    </tr>\n",
       "    <tr>\n",
       "      <th>801</th>\n",
       "      <td>17500</td>\n",
       "      <td>17585.409054</td>\n",
       "      <td>85.409054</td>\n",
       "    </tr>\n",
       "    <tr>\n",
       "      <th>168</th>\n",
       "      <td>353190</td>\n",
       "      <td>349317.942307</td>\n",
       "      <td>-3872.057693</td>\n",
       "    </tr>\n",
       "    <tr>\n",
       "      <th>...</th>\n",
       "      <td>...</td>\n",
       "      <td>...</td>\n",
       "      <td>...</td>\n",
       "    </tr>\n",
       "    <tr>\n",
       "      <th>653</th>\n",
       "      <td>46250</td>\n",
       "      <td>48034.355432</td>\n",
       "      <td>1784.355432</td>\n",
       "    </tr>\n",
       "    <tr>\n",
       "      <th>456</th>\n",
       "      <td>158000</td>\n",
       "      <td>159903.708965</td>\n",
       "      <td>1903.708965</td>\n",
       "    </tr>\n",
       "    <tr>\n",
       "      <th>778</th>\n",
       "      <td>21600</td>\n",
       "      <td>22084.471915</td>\n",
       "      <td>484.471915</td>\n",
       "    </tr>\n",
       "    <tr>\n",
       "      <th>532</th>\n",
       "      <td>102050</td>\n",
       "      <td>108197.617888</td>\n",
       "      <td>6147.617888</td>\n",
       "    </tr>\n",
       "    <tr>\n",
       "      <th>478</th>\n",
       "      <td>141260</td>\n",
       "      <td>134566.814857</td>\n",
       "      <td>-6693.185143</td>\n",
       "    </tr>\n",
       "  </tbody>\n",
       "</table>\n",
       "<p>168 rows × 3 columns</p>\n",
       "</div>"
      ],
      "text/plain": [
       "     real values  predicted  vaules   difference\n",
       "611        61680       65275.316912  3595.316912\n",
       "823        12000       10929.857999 -1070.142001\n",
       "290       259160      257945.319523 -1214.680477\n",
       "801        17500       17585.409054    85.409054\n",
       "168       353190      349317.942307 -3872.057693\n",
       "..           ...                ...          ...\n",
       "653        46250       48034.355432  1784.355432\n",
       "456       158000      159903.708965  1903.708965\n",
       "778        21600       22084.471915   484.471915\n",
       "532       102050      108197.617888  6147.617888\n",
       "478       141260      134566.814857 -6693.185143\n",
       "\n",
       "[168 rows x 3 columns]"
      ]
     },
     "execution_count": 112,
     "metadata": {},
     "output_type": "execute_result"
    }
   ],
   "source": [
    "linear_df = pd.DataFrame (data= {'real values': y_test,\n",
    "                              'predicted  vaules': y_pred})\n",
    "linear_df['difference'] = linear_df['predicted  vaules'] - linear_df['real values']\n",
    "linear_df\n"
   ]
  },
  {
   "cell_type": "code",
   "execution_count": null,
   "id": "68870fdd",
   "metadata": {},
   "outputs": [
    {
     "data": {
      "text/plain": [
       "real values          193666.696429\n",
       "predicted  vaules    193836.283969\n",
       "difference              169.587540\n",
       "dtype: float64"
      ]
     },
     "execution_count": 82,
     "metadata": {},
     "output_type": "execute_result"
    }
   ],
   "source": [
    "linear_df.mean()"
   ]
  },
  {
   "cell_type": "code",
   "execution_count": null,
   "id": "b73dcc08",
   "metadata": {},
   "outputs": [
    {
     "data": {
      "text/plain": [
       "real values          166200.000000\n",
       "predicted  vaules    164383.935076\n",
       "difference               90.895463\n",
       "dtype: float64"
      ]
     },
     "execution_count": 83,
     "metadata": {},
     "output_type": "execute_result"
    }
   ],
   "source": [
    "linear_df.median()"
   ]
  },
  {
   "cell_type": "code",
   "execution_count": null,
   "id": "db663aa9",
   "metadata": {
    "scrolled": false
   },
   "outputs": [
    {
     "data": {
      "image/png": "[encoded data removed]",
      "text/plain": [
       "<Figure size 1000x600 with 1 Axes>"
      ]
     },
     "metadata": {},
     "output_type": "display_data"
    }
   ],
   "source": [
    "plt.figure(figsize=(10, 6))\n",
    "plt.scatter(range(len(y_test)), y_test, color='blue', label='Actual')\n",
    "plt.scatter(range(len(y_pred)), y_pred, color='red', label='Predicted', alpha=0.5)\n",
    "plt.xlabel('Index')\n",
    "plt.ylabel('Personnel')\n",
    "plt.title('Actual vs Predicted Values')\n",
    "plt.legend()\n",
    "plt.show()"
   ]
  },
  {
   "cell_type": "code",
   "execution_count": null,
   "id": "aa508079",
   "metadata": {},
   "outputs": [
    {
     "data": {
      "image/png": "[encoded data removed]",
      "text/plain": [
       "<Figure size 1000x600 with 1 Axes>"
      ]
     },
     "metadata": {},
     "output_type": "display_data"
    }
   ],
   "source": [
    "plt.figure(figsize=(10, 6))\n",
    "plt.scatter(X_test['combat_day'], y_test, color='blue', label='Actual')\n",
    "plt.scatter(X_test['combat_day'], y_pred, color='red', label='Predicted', alpha=0.5)\n",
    "plt.xlabel('Combat Day')\n",
    "plt.ylabel('Personnel')\n",
    "plt.title('Regression Line for Combat Day')\n",
    "plt.legend()\n",
    "plt.show()"
   ]
  },
  {
   "cell_type": "code",
   "execution_count": null,
   "id": "3e18a7a0",
   "metadata": {},
   "outputs": [
    {
     "data": {
      "image/png": "[encoded data removed]",
      "text/plain": [
       "<Figure size 1000x600 with 1 Axes>"
      ]
     },
     "metadata": {},
     "output_type": "display_data"
    }
   ],
   "source": [
    "plt.figure(figsize=(10, 6))\n",
    "sns.residplot(x=y_test, y=y_test - y_pred, lowess=True, color='purple')\n",
    "plt.xlabel('Actual Personnel')\n",
    "plt.ylabel('Residuals')\n",
    "plt.title('Residuals vs. Actual Values')\n",
    "plt.show()"
   ]
  },
  {
   "cell_type": "code",
   "execution_count": null,
   "id": "4c96f27e",
   "metadata": {},
   "outputs": [
    {
     "data": {
      "text/plain": [
       "0.9993269910721024"
      ]
     },
     "execution_count": 87,
     "metadata": {},
     "output_type": "execute_result"
    }
   ],
   "source": [
    "r2_score(y_pred,y_test)"
   ]
  },
  {
   "cell_type": "code",
   "execution_count": null,
   "id": "4a1642d2",
   "metadata": {},
   "outputs": [
    {
     "data": {
      "text/html": [
       "<div>\n",
       "<style scoped>\n",
       "    .dataframe tbody tr th:only-of-type {\n",
       "        vertical-align: middle;\n",
       "    }\n",
       "\n",
       "    .dataframe tbody tr th {\n",
       "        vertical-align: top;\n",
       "    }\n",
       "\n",
       "    .dataframe thead th {\n",
       "        text-align: right;\n",
       "    }\n",
       "</style>\n",
       "<table border=\"1\" class=\"dataframe\">\n",
       "  <thead>\n",
       "    <tr style=\"text-align: right;\">\n",
       "      <th></th>\n",
       "      <th>real values</th>\n",
       "      <th>predicted  vaules</th>\n",
       "      <th>difference</th>\n",
       "    </tr>\n",
       "  </thead>\n",
       "  <tbody>\n",
       "    <tr>\n",
       "      <th>2</th>\n",
       "      <td>516080</td>\n",
       "      <td>512948.603851</td>\n",
       "      <td>-3131.396149</td>\n",
       "    </tr>\n",
       "    <tr>\n",
       "      <th>5</th>\n",
       "      <td>512420</td>\n",
       "      <td>509168.753735</td>\n",
       "      <td>-3251.246265</td>\n",
       "    </tr>\n",
       "    <tr>\n",
       "      <th>7</th>\n",
       "      <td>509860</td>\n",
       "      <td>506957.740371</td>\n",
       "      <td>-2902.259629</td>\n",
       "    </tr>\n",
       "    <tr>\n",
       "      <th>10</th>\n",
       "      <td>506260</td>\n",
       "      <td>504341.386913</td>\n",
       "      <td>-1918.613087</td>\n",
       "    </tr>\n",
       "    <tr>\n",
       "      <th>23</th>\n",
       "      <td>489870</td>\n",
       "      <td>488764.837504</td>\n",
       "      <td>-1105.162496</td>\n",
       "    </tr>\n",
       "    <tr>\n",
       "      <th>...</th>\n",
       "      <td>...</td>\n",
       "      <td>...</td>\n",
       "      <td>...</td>\n",
       "    </tr>\n",
       "    <tr>\n",
       "      <th>816</th>\n",
       "      <td>13800</td>\n",
       "      <td>9052.670431</td>\n",
       "      <td>-4747.329569</td>\n",
       "    </tr>\n",
       "    <tr>\n",
       "      <th>822</th>\n",
       "      <td>12000</td>\n",
       "      <td>10433.750794</td>\n",
       "      <td>-1566.249206</td>\n",
       "    </tr>\n",
       "    <tr>\n",
       "      <th>823</th>\n",
       "      <td>12000</td>\n",
       "      <td>10929.857999</td>\n",
       "      <td>-1070.142001</td>\n",
       "    </tr>\n",
       "    <tr>\n",
       "      <th>831</th>\n",
       "      <td>5710</td>\n",
       "      <td>16331.202688</td>\n",
       "      <td>10621.202688</td>\n",
       "    </tr>\n",
       "    <tr>\n",
       "      <th>832</th>\n",
       "      <td>5300</td>\n",
       "      <td>1491.421030</td>\n",
       "      <td>-3808.578970</td>\n",
       "    </tr>\n",
       "  </tbody>\n",
       "</table>\n",
       "<p>168 rows × 3 columns</p>\n",
       "</div>"
      ],
      "text/plain": [
       "     real values  predicted  vaules    difference\n",
       "2         516080      512948.603851  -3131.396149\n",
       "5         512420      509168.753735  -3251.246265\n",
       "7         509860      506957.740371  -2902.259629\n",
       "10        506260      504341.386913  -1918.613087\n",
       "23        489870      488764.837504  -1105.162496\n",
       "..           ...                ...           ...\n",
       "816        13800        9052.670431  -4747.329569\n",
       "822        12000       10433.750794  -1566.249206\n",
       "823        12000       10929.857999  -1070.142001\n",
       "831         5710       16331.202688  10621.202688\n",
       "832         5300        1491.421030  -3808.578970\n",
       "\n",
       "[168 rows x 3 columns]"
      ]
     },
     "execution_count": 88,
     "metadata": {},
     "output_type": "execute_result"
    }
   ],
   "source": [
    "linear_df.sort_values(by=[\"real values\"], ascending=False)\n"
   ]
  },
  {
   "cell_type": "code",
   "execution_count": null,
   "id": "51672a45",
   "metadata": {},
   "outputs": [
    {
     "data": {
      "text/html": [
       "<div>\n",
       "<style scoped>\n",
       "    .dataframe tbody tr th:only-of-type {\n",
       "        vertical-align: middle;\n",
       "    }\n",
       "\n",
       "    .dataframe tbody tr th {\n",
       "        vertical-align: top;\n",
       "    }\n",
       "\n",
       "    .dataframe thead th {\n",
       "        text-align: right;\n",
       "    }\n",
       "</style>\n",
       "<table border=\"1\" class=\"dataframe\">\n",
       "  <thead>\n",
       "    <tr style=\"text-align: right;\">\n",
       "      <th></th>\n",
       "      <th>real values</th>\n",
       "      <th>predicted  vaules</th>\n",
       "      <th>difference</th>\n",
       "    </tr>\n",
       "  </thead>\n",
       "  <tbody>\n",
       "    <tr>\n",
       "      <th>611</th>\n",
       "      <td>61680</td>\n",
       "      <td>65275.316912</td>\n",
       "      <td>3595.316912</td>\n",
       "    </tr>\n",
       "    <tr>\n",
       "      <th>823</th>\n",
       "      <td>12000</td>\n",
       "      <td>10929.857999</td>\n",
       "      <td>-1070.142001</td>\n",
       "    </tr>\n",
       "    <tr>\n",
       "      <th>290</th>\n",
       "      <td>259160</td>\n",
       "      <td>257945.319523</td>\n",
       "      <td>-1214.680477</td>\n",
       "    </tr>\n",
       "    <tr>\n",
       "      <th>801</th>\n",
       "      <td>17500</td>\n",
       "      <td>17585.409054</td>\n",
       "      <td>85.409054</td>\n",
       "    </tr>\n",
       "    <tr>\n",
       "      <th>168</th>\n",
       "      <td>353190</td>\n",
       "      <td>349317.942307</td>\n",
       "      <td>-3872.057693</td>\n",
       "    </tr>\n",
       "    <tr>\n",
       "      <th>689</th>\n",
       "      <td>38850</td>\n",
       "      <td>44077.569474</td>\n",
       "      <td>5227.569474</td>\n",
       "    </tr>\n",
       "    <tr>\n",
       "      <th>822</th>\n",
       "      <td>12000</td>\n",
       "      <td>10433.750794</td>\n",
       "      <td>-1566.249206</td>\n",
       "    </tr>\n",
       "    <tr>\n",
       "      <th>86</th>\n",
       "      <td>428420</td>\n",
       "      <td>429298.419902</td>\n",
       "      <td>878.419902</td>\n",
       "    </tr>\n",
       "    <tr>\n",
       "      <th>260</th>\n",
       "      <td>275460</td>\n",
       "      <td>271138.826266</td>\n",
       "      <td>-4321.173734</td>\n",
       "    </tr>\n",
       "    <tr>\n",
       "      <th>548</th>\n",
       "      <td>93390</td>\n",
       "      <td>94086.513309</td>\n",
       "      <td>696.513309</td>\n",
       "    </tr>\n",
       "  </tbody>\n",
       "</table>\n",
       "</div>"
      ],
      "text/plain": [
       "     real values  predicted  vaules   difference\n",
       "611        61680       65275.316912  3595.316912\n",
       "823        12000       10929.857999 -1070.142001\n",
       "290       259160      257945.319523 -1214.680477\n",
       "801        17500       17585.409054    85.409054\n",
       "168       353190      349317.942307 -3872.057693\n",
       "689        38850       44077.569474  5227.569474\n",
       "822        12000       10433.750794 -1566.249206\n",
       "86        428420      429298.419902   878.419902\n",
       "260       275460      271138.826266 -4321.173734\n",
       "548        93390       94086.513309   696.513309"
      ]
     },
     "execution_count": 89,
     "metadata": {},
     "output_type": "execute_result"
    }
   ],
   "source": [
    "linear_df.head(10)"
   ]
  },
  {
   "cell_type": "code",
   "execution_count": null,
   "id": "fd59f3ba",
   "metadata": {},
   "outputs": [
    {
     "data": {
      "text/plain": [
       "168"
      ]
     },
     "execution_count": 90,
     "metadata": {},
     "output_type": "execute_result"
    }
   ],
   "source": [
    "len(y_pred)"
   ]
  },
  {
   "cell_type": "code",
   "execution_count": null,
   "id": "ea599bbb",
   "metadata": {},
   "outputs": [],
   "source": []
  }
 ],
 "metadata": {
  "kernelspec": {
   "display_name": "base",
   "language": "python",
   "name": "python3"
  },
  "language_info": {
   "codemirror_mode": {
    "name": "ipython",
    "version": 3
   },
   "file_extension": ".py",
   "mimetype": "text/x-python",
   "name": "python",
   "nbconvert_exporter": "python",
   "pygments_lexer": "ipython3",
   "version": "3.10.9"
  }
 },
 "nbformat": 4,
 "nbformat_minor": 5
}
